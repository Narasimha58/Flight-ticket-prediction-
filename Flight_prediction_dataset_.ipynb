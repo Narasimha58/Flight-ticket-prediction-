{
  "nbformat": 4,
  "nbformat_minor": 0,
  "metadata": {
    "colab": {
      "name": "Copy of Flight prediction dataset .ipynb",
      "provenance": [],
      "collapsed_sections": [],
      "authorship_tag": "ABX9TyP9rhjeWnxkUmXcbMs9m4Qk"
    },
    "kernelspec": {
      "name": "python3",
      "display_name": "Python 3"
    },
    "language_info": {
      "name": "python"
    }
  },
  "cells": [
    {
      "cell_type": "code",
      "metadata": {
        "colab": {
          "base_uri": "https://localhost:8080/"
        },
        "id": "vSNvS7FNiK_-",
        "outputId": "c71d2a7c-1143-4a34-bf80-16fff4f2de68"
      },
      "source": [
        "  from google.colab import drive \n",
        "drive.mount('/content/grive')"
      ],
      "execution_count": null,
      "outputs": [
        {
          "output_type": "stream",
          "name": "stdout",
          "text": [
            "Drive already mounted at /content/grive; to attempt to forcibly remount, call drive.mount(\"/content/grive\", force_remount=True).\n"
          ]
        }
      ]
    },
    {
      "cell_type": "code",
      "metadata": {
        "id": "5VXKsKYmio9h"
      },
      "source": [
        "#loading libraries  with dataset \n",
        "import numpy as np \n",
        "import pandas as pd \n",
        "data_train= pd.read_excel('/content/grive/MyDrive/Data/Data_Train.xlsx')\n"
      ],
      "execution_count": null,
      "outputs": []
    },
    {
      "cell_type": "code",
      "metadata": {
        "colab": {
          "base_uri": "https://localhost:8080/",
          "height": 110
        },
        "id": "RnY2F2PvmYR5",
        "outputId": "3624fe43-5026-4d32-9509-fc1e322bb925"
      },
      "source": [
        "data_train.head(2) \n"
      ],
      "execution_count": null,
      "outputs": [
        {
          "output_type": "execute_result",
          "data": {
            "text/html": [
              "<div>\n",
              "<style scoped>\n",
              "    .dataframe tbody tr th:only-of-type {\n",
              "        vertical-align: middle;\n",
              "    }\n",
              "\n",
              "    .dataframe tbody tr th {\n",
              "        vertical-align: top;\n",
              "    }\n",
              "\n",
              "    .dataframe thead th {\n",
              "        text-align: right;\n",
              "    }\n",
              "</style>\n",
              "<table border=\"1\" class=\"dataframe\">\n",
              "  <thead>\n",
              "    <tr style=\"text-align: right;\">\n",
              "      <th></th>\n",
              "      <th>Airline</th>\n",
              "      <th>Date_of_Journey</th>\n",
              "      <th>Source</th>\n",
              "      <th>Destination</th>\n",
              "      <th>Route</th>\n",
              "      <th>Dep_Time</th>\n",
              "      <th>Arrival_Time</th>\n",
              "      <th>Duration</th>\n",
              "      <th>Total_Stops</th>\n",
              "      <th>Additional_Info</th>\n",
              "      <th>Price</th>\n",
              "    </tr>\n",
              "  </thead>\n",
              "  <tbody>\n",
              "    <tr>\n",
              "      <th>0</th>\n",
              "      <td>IndiGo</td>\n",
              "      <td>24/03/2019</td>\n",
              "      <td>Banglore</td>\n",
              "      <td>New Delhi</td>\n",
              "      <td>BLR → DEL</td>\n",
              "      <td>22:20</td>\n",
              "      <td>01:10 22 Mar</td>\n",
              "      <td>2h 50m</td>\n",
              "      <td>non-stop</td>\n",
              "      <td>No info</td>\n",
              "      <td>3897</td>\n",
              "    </tr>\n",
              "    <tr>\n",
              "      <th>1</th>\n",
              "      <td>Air India</td>\n",
              "      <td>1/05/2019</td>\n",
              "      <td>Kolkata</td>\n",
              "      <td>Banglore</td>\n",
              "      <td>CCU → IXR → BBI → BLR</td>\n",
              "      <td>05:50</td>\n",
              "      <td>13:15</td>\n",
              "      <td>7h 25m</td>\n",
              "      <td>2 stops</td>\n",
              "      <td>No info</td>\n",
              "      <td>7662</td>\n",
              "    </tr>\n",
              "  </tbody>\n",
              "</table>\n",
              "</div>"
            ],
            "text/plain": [
              "     Airline Date_of_Journey    Source  ... Total_Stops Additional_Info Price\n",
              "0     IndiGo      24/03/2019  Banglore  ...    non-stop         No info  3897\n",
              "1  Air India       1/05/2019   Kolkata  ...     2 stops         No info  7662\n",
              "\n",
              "[2 rows x 11 columns]"
            ]
          },
          "metadata": {},
          "execution_count": 36
        }
      ]
    },
    {
      "cell_type": "code",
      "metadata": {
        "colab": {
          "base_uri": "https://localhost:8080/",
          "height": 417
        },
        "id": "OSz7xIQDBgdu",
        "outputId": "727e3ff8-54c7-49a2-84b8-03fecef3a2d6"
      },
      "source": [
        "data_train"
      ],
      "execution_count": null,
      "outputs": [
        {
          "output_type": "execute_result",
          "data": {
            "text/html": [
              "<div>\n",
              "<style scoped>\n",
              "    .dataframe tbody tr th:only-of-type {\n",
              "        vertical-align: middle;\n",
              "    }\n",
              "\n",
              "    .dataframe tbody tr th {\n",
              "        vertical-align: top;\n",
              "    }\n",
              "\n",
              "    .dataframe thead th {\n",
              "        text-align: right;\n",
              "    }\n",
              "</style>\n",
              "<table border=\"1\" class=\"dataframe\">\n",
              "  <thead>\n",
              "    <tr style=\"text-align: right;\">\n",
              "      <th></th>\n",
              "      <th>Airline</th>\n",
              "      <th>Date_of_Journey</th>\n",
              "      <th>Source</th>\n",
              "      <th>Destination</th>\n",
              "      <th>Route</th>\n",
              "      <th>Dep_Time</th>\n",
              "      <th>Arrival_Time</th>\n",
              "      <th>Duration</th>\n",
              "      <th>Total_Stops</th>\n",
              "      <th>Additional_Info</th>\n",
              "      <th>Price</th>\n",
              "    </tr>\n",
              "  </thead>\n",
              "  <tbody>\n",
              "    <tr>\n",
              "      <th>0</th>\n",
              "      <td>IndiGo</td>\n",
              "      <td>24/03/2019</td>\n",
              "      <td>Banglore</td>\n",
              "      <td>New Delhi</td>\n",
              "      <td>BLR → DEL</td>\n",
              "      <td>22:20</td>\n",
              "      <td>01:10 22 Mar</td>\n",
              "      <td>2h 50m</td>\n",
              "      <td>non-stop</td>\n",
              "      <td>No info</td>\n",
              "      <td>3897</td>\n",
              "    </tr>\n",
              "    <tr>\n",
              "      <th>1</th>\n",
              "      <td>Air India</td>\n",
              "      <td>1/05/2019</td>\n",
              "      <td>Kolkata</td>\n",
              "      <td>Banglore</td>\n",
              "      <td>CCU → IXR → BBI → BLR</td>\n",
              "      <td>05:50</td>\n",
              "      <td>13:15</td>\n",
              "      <td>7h 25m</td>\n",
              "      <td>2 stops</td>\n",
              "      <td>No info</td>\n",
              "      <td>7662</td>\n",
              "    </tr>\n",
              "    <tr>\n",
              "      <th>2</th>\n",
              "      <td>Jet Airways</td>\n",
              "      <td>9/06/2019</td>\n",
              "      <td>Delhi</td>\n",
              "      <td>Cochin</td>\n",
              "      <td>DEL → LKO → BOM → COK</td>\n",
              "      <td>09:25</td>\n",
              "      <td>04:25 10 Jun</td>\n",
              "      <td>19h</td>\n",
              "      <td>2 stops</td>\n",
              "      <td>No info</td>\n",
              "      <td>13882</td>\n",
              "    </tr>\n",
              "    <tr>\n",
              "      <th>3</th>\n",
              "      <td>IndiGo</td>\n",
              "      <td>12/05/2019</td>\n",
              "      <td>Kolkata</td>\n",
              "      <td>Banglore</td>\n",
              "      <td>CCU → NAG → BLR</td>\n",
              "      <td>18:05</td>\n",
              "      <td>23:30</td>\n",
              "      <td>5h 25m</td>\n",
              "      <td>1 stop</td>\n",
              "      <td>No info</td>\n",
              "      <td>6218</td>\n",
              "    </tr>\n",
              "    <tr>\n",
              "      <th>4</th>\n",
              "      <td>IndiGo</td>\n",
              "      <td>01/03/2019</td>\n",
              "      <td>Banglore</td>\n",
              "      <td>New Delhi</td>\n",
              "      <td>BLR → NAG → DEL</td>\n",
              "      <td>16:50</td>\n",
              "      <td>21:35</td>\n",
              "      <td>4h 45m</td>\n",
              "      <td>1 stop</td>\n",
              "      <td>No info</td>\n",
              "      <td>13302</td>\n",
              "    </tr>\n",
              "    <tr>\n",
              "      <th>...</th>\n",
              "      <td>...</td>\n",
              "      <td>...</td>\n",
              "      <td>...</td>\n",
              "      <td>...</td>\n",
              "      <td>...</td>\n",
              "      <td>...</td>\n",
              "      <td>...</td>\n",
              "      <td>...</td>\n",
              "      <td>...</td>\n",
              "      <td>...</td>\n",
              "      <td>...</td>\n",
              "    </tr>\n",
              "    <tr>\n",
              "      <th>10678</th>\n",
              "      <td>Air Asia</td>\n",
              "      <td>9/04/2019</td>\n",
              "      <td>Kolkata</td>\n",
              "      <td>Banglore</td>\n",
              "      <td>CCU → BLR</td>\n",
              "      <td>19:55</td>\n",
              "      <td>22:25</td>\n",
              "      <td>2h 30m</td>\n",
              "      <td>non-stop</td>\n",
              "      <td>No info</td>\n",
              "      <td>4107</td>\n",
              "    </tr>\n",
              "    <tr>\n",
              "      <th>10679</th>\n",
              "      <td>Air India</td>\n",
              "      <td>27/04/2019</td>\n",
              "      <td>Kolkata</td>\n",
              "      <td>Banglore</td>\n",
              "      <td>CCU → BLR</td>\n",
              "      <td>20:45</td>\n",
              "      <td>23:20</td>\n",
              "      <td>2h 35m</td>\n",
              "      <td>non-stop</td>\n",
              "      <td>No info</td>\n",
              "      <td>4145</td>\n",
              "    </tr>\n",
              "    <tr>\n",
              "      <th>10680</th>\n",
              "      <td>Jet Airways</td>\n",
              "      <td>27/04/2019</td>\n",
              "      <td>Banglore</td>\n",
              "      <td>Delhi</td>\n",
              "      <td>BLR → DEL</td>\n",
              "      <td>08:20</td>\n",
              "      <td>11:20</td>\n",
              "      <td>3h</td>\n",
              "      <td>non-stop</td>\n",
              "      <td>No info</td>\n",
              "      <td>7229</td>\n",
              "    </tr>\n",
              "    <tr>\n",
              "      <th>10681</th>\n",
              "      <td>Vistara</td>\n",
              "      <td>01/03/2019</td>\n",
              "      <td>Banglore</td>\n",
              "      <td>New Delhi</td>\n",
              "      <td>BLR → DEL</td>\n",
              "      <td>11:30</td>\n",
              "      <td>14:10</td>\n",
              "      <td>2h 40m</td>\n",
              "      <td>non-stop</td>\n",
              "      <td>No info</td>\n",
              "      <td>12648</td>\n",
              "    </tr>\n",
              "    <tr>\n",
              "      <th>10682</th>\n",
              "      <td>Air India</td>\n",
              "      <td>9/05/2019</td>\n",
              "      <td>Delhi</td>\n",
              "      <td>Cochin</td>\n",
              "      <td>DEL → GOI → BOM → COK</td>\n",
              "      <td>10:55</td>\n",
              "      <td>19:15</td>\n",
              "      <td>8h 20m</td>\n",
              "      <td>2 stops</td>\n",
              "      <td>No info</td>\n",
              "      <td>11753</td>\n",
              "    </tr>\n",
              "  </tbody>\n",
              "</table>\n",
              "<p>10683 rows × 11 columns</p>\n",
              "</div>"
            ],
            "text/plain": [
              "           Airline Date_of_Journey    Source  ... Total_Stops Additional_Info  Price\n",
              "0           IndiGo      24/03/2019  Banglore  ...    non-stop         No info   3897\n",
              "1        Air India       1/05/2019   Kolkata  ...     2 stops         No info   7662\n",
              "2      Jet Airways       9/06/2019     Delhi  ...     2 stops         No info  13882\n",
              "3           IndiGo      12/05/2019   Kolkata  ...      1 stop         No info   6218\n",
              "4           IndiGo      01/03/2019  Banglore  ...      1 stop         No info  13302\n",
              "...            ...             ...       ...  ...         ...             ...    ...\n",
              "10678     Air Asia       9/04/2019   Kolkata  ...    non-stop         No info   4107\n",
              "10679    Air India      27/04/2019   Kolkata  ...    non-stop         No info   4145\n",
              "10680  Jet Airways      27/04/2019  Banglore  ...    non-stop         No info   7229\n",
              "10681      Vistara      01/03/2019  Banglore  ...    non-stop         No info  12648\n",
              "10682    Air India       9/05/2019     Delhi  ...     2 stops         No info  11753\n",
              "\n",
              "[10683 rows x 11 columns]"
            ]
          },
          "metadata": {},
          "execution_count": 37
        }
      ]
    },
    {
      "cell_type": "code",
      "metadata": {
        "colab": {
          "base_uri": "https://localhost:8080/"
        },
        "id": "ckqD2Mj-p0lr",
        "outputId": "8ee17e9b-70d4-4e70-84dd-ecc26b31d01b"
      },
      "source": [
        "data_train.info()\n",
        "#lets check for null values too \n",
        "print('**************************************************************')\n",
        "data_train.isnull().sum()"
      ],
      "execution_count": null,
      "outputs": [
        {
          "output_type": "stream",
          "name": "stdout",
          "text": [
            "<class 'pandas.core.frame.DataFrame'>\n",
            "RangeIndex: 10683 entries, 0 to 10682\n",
            "Data columns (total 11 columns):\n",
            " #   Column           Non-Null Count  Dtype \n",
            "---  ------           --------------  ----- \n",
            " 0   Airline          10683 non-null  object\n",
            " 1   Date_of_Journey  10683 non-null  object\n",
            " 2   Source           10683 non-null  object\n",
            " 3   Destination      10683 non-null  object\n",
            " 4   Route            10682 non-null  object\n",
            " 5   Dep_Time         10683 non-null  object\n",
            " 6   Arrival_Time     10683 non-null  object\n",
            " 7   Duration         10683 non-null  object\n",
            " 8   Total_Stops      10682 non-null  object\n",
            " 9   Additional_Info  10683 non-null  object\n",
            " 10  Price            10683 non-null  int64 \n",
            "dtypes: int64(1), object(10)\n",
            "memory usage: 918.2+ KB\n",
            "**************************************************************\n"
          ]
        },
        {
          "output_type": "execute_result",
          "data": {
            "text/plain": [
              "Airline            0\n",
              "Date_of_Journey    0\n",
              "Source             0\n",
              "Destination        0\n",
              "Route              1\n",
              "Dep_Time           0\n",
              "Arrival_Time       0\n",
              "Duration           0\n",
              "Total_Stops        1\n",
              "Additional_Info    0\n",
              "Price              0\n",
              "dtype: int64"
            ]
          },
          "metadata": {},
          "execution_count": 38
        }
      ]
    },
    {
      "cell_type": "code",
      "metadata": {
        "colab": {
          "base_uri": "https://localhost:8080/"
        },
        "id": "LRo2tnNODGgn",
        "outputId": "0182ff8d-bb5a-4f98-dc3e-e4d9132e62df"
      },
      "source": [
        "category =['Airline','Source','Destination','Total_Stops','Additional_Info']\n",
        "for i in category:\n",
        "  print(i,data_train[i].unique()) \n",
        "  # we found that Airline column has 12 unique values\n",
        "  #Source column has 5 unique values\n",
        "  #Destination column has 6 unique values "
      ],
      "execution_count": null,
      "outputs": [
        {
          "output_type": "stream",
          "name": "stdout",
          "text": [
            "Airline ['IndiGo' 'Air India' 'Jet Airways' 'SpiceJet' 'Multiple carriers' 'GoAir'\n",
            " 'Vistara' 'Air Asia' 'Vistara Premium economy' 'Jet Airways Business'\n",
            " 'Multiple carriers Premium economy' 'Trujet']\n",
            "Source ['Banglore' 'Kolkata' 'Delhi' 'Chennai' 'Mumbai']\n",
            "Destination ['New Delhi' 'Banglore' 'Cochin' 'Kolkata' 'Delhi' 'Hyderabad']\n",
            "Total_Stops ['non-stop' '2 stops' '1 stop' '3 stops' nan '4 stops']\n",
            "Additional_Info ['No info' 'In-flight meal not included' 'No check-in baggage included'\n",
            " '1 Short layover' 'No Info' '1 Long layover' 'Change airports'\n",
            " 'Business class' 'Red-eye flight' '2 Long layover']\n"
          ]
        }
      ]
    },
    {
      "cell_type": "code",
      "metadata": {
        "id": "Ymf0z5w_q12H"
      },
      "source": [
        "#lets now do preprocessing with feature\n",
        "data_train['Date_of_Journey'] = data_train.Date_of_Journey.astype(str).str.split('/')\n"
      ],
      "execution_count": null,
      "outputs": []
    },
    {
      "cell_type": "code",
      "metadata": {
        "colab": {
          "base_uri": "https://localhost:8080/"
        },
        "id": "329OwPp2Gcvc",
        "outputId": "e4640a4f-f17a-4b50-dd2c-cd0858ee0675"
      },
      "source": [
        "data_train.Date_of_Journey"
      ],
      "execution_count": null,
      "outputs": [
        {
          "output_type": "execute_result",
          "data": {
            "text/plain": [
              "0        [24, 03, 2019]\n",
              "1         [1, 05, 2019]\n",
              "2         [9, 06, 2019]\n",
              "3        [12, 05, 2019]\n",
              "4        [01, 03, 2019]\n",
              "              ...      \n",
              "10678     [9, 04, 2019]\n",
              "10679    [27, 04, 2019]\n",
              "10680    [27, 04, 2019]\n",
              "10681    [01, 03, 2019]\n",
              "10682     [9, 05, 2019]\n",
              "Name: Date_of_Journey, Length: 10683, dtype: object"
            ]
          },
          "metadata": {},
          "execution_count": 41
        }
      ]
    },
    {
      "cell_type": "code",
      "metadata": {
        "id": "6zZKosuuHcR1"
      },
      "source": [
        "data_train['date']= data_train.Date_of_Journey.str[0]\n",
        "data_train['month']=data_train.Date_of_Journey.str[1]\n",
        "data_train['year']=data_train.Date_of_Journey.str[2]"
      ],
      "execution_count": null,
      "outputs": []
    },
    {
      "cell_type": "code",
      "metadata": {
        "colab": {
          "base_uri": "https://localhost:8080/",
          "height": 110
        },
        "id": "QD2CG8gmIF9p",
        "outputId": "582c1783-e8bf-4381-f0ad-01254dddf36d"
      },
      "source": [
        "data_train.head(2)"
      ],
      "execution_count": null,
      "outputs": [
        {
          "output_type": "execute_result",
          "data": {
            "text/html": [
              "<div>\n",
              "<style scoped>\n",
              "    .dataframe tbody tr th:only-of-type {\n",
              "        vertical-align: middle;\n",
              "    }\n",
              "\n",
              "    .dataframe tbody tr th {\n",
              "        vertical-align: top;\n",
              "    }\n",
              "\n",
              "    .dataframe thead th {\n",
              "        text-align: right;\n",
              "    }\n",
              "</style>\n",
              "<table border=\"1\" class=\"dataframe\">\n",
              "  <thead>\n",
              "    <tr style=\"text-align: right;\">\n",
              "      <th></th>\n",
              "      <th>Airline</th>\n",
              "      <th>Date_of_Journey</th>\n",
              "      <th>Source</th>\n",
              "      <th>Destination</th>\n",
              "      <th>Route</th>\n",
              "      <th>Dep_Time</th>\n",
              "      <th>Arrival_Time</th>\n",
              "      <th>Duration</th>\n",
              "      <th>Total_Stops</th>\n",
              "      <th>Additional_Info</th>\n",
              "      <th>Price</th>\n",
              "      <th>date</th>\n",
              "      <th>month</th>\n",
              "      <th>year</th>\n",
              "    </tr>\n",
              "  </thead>\n",
              "  <tbody>\n",
              "    <tr>\n",
              "      <th>0</th>\n",
              "      <td>IndiGo</td>\n",
              "      <td>[24, 03, 2019]</td>\n",
              "      <td>Banglore</td>\n",
              "      <td>New Delhi</td>\n",
              "      <td>BLR → DEL</td>\n",
              "      <td>22:20</td>\n",
              "      <td>01:10 22 Mar</td>\n",
              "      <td>2h 50m</td>\n",
              "      <td>non-stop</td>\n",
              "      <td>No info</td>\n",
              "      <td>3897</td>\n",
              "      <td>24</td>\n",
              "      <td>03</td>\n",
              "      <td>2019</td>\n",
              "    </tr>\n",
              "    <tr>\n",
              "      <th>1</th>\n",
              "      <td>Air India</td>\n",
              "      <td>[1, 05, 2019]</td>\n",
              "      <td>Kolkata</td>\n",
              "      <td>Banglore</td>\n",
              "      <td>CCU → IXR → BBI → BLR</td>\n",
              "      <td>05:50</td>\n",
              "      <td>13:15</td>\n",
              "      <td>7h 25m</td>\n",
              "      <td>2 stops</td>\n",
              "      <td>No info</td>\n",
              "      <td>7662</td>\n",
              "      <td>1</td>\n",
              "      <td>05</td>\n",
              "      <td>2019</td>\n",
              "    </tr>\n",
              "  </tbody>\n",
              "</table>\n",
              "</div>"
            ],
            "text/plain": [
              "     Airline Date_of_Journey    Source Destination  ... Price date month  year\n",
              "0     IndiGo  [24, 03, 2019]  Banglore   New Delhi  ...  3897   24    03  2019\n",
              "1  Air India   [1, 05, 2019]   Kolkata    Banglore  ...  7662    1    05  2019\n",
              "\n",
              "[2 rows x 14 columns]"
            ]
          },
          "metadata": {},
          "execution_count": 43
        }
      ]
    },
    {
      "cell_type": "code",
      "metadata": {
        "colab": {
          "base_uri": "https://localhost:8080/"
        },
        "id": "WHUKVBu0IMpz",
        "outputId": "8f960c8b-2ff3-4d21-d54a-3461031960be"
      },
      "source": [
        "#now lets do it for for our route \n",
        "data_train['Total_Stops'].unique()\n",
        "# from this we got to know there are max 4 stops so max stations must be 6 \n",
        "data_train['Route']=data_train['Route'].str.split('→')\n",
        "print(\"*****************\")\n",
        "data_train.Route\n",
        "\n"
      ],
      "execution_count": null,
      "outputs": [
        {
          "output_type": "stream",
          "name": "stdout",
          "text": [
            "*****************\n"
          ]
        },
        {
          "output_type": "execute_result",
          "data": {
            "text/plain": [
              "0                      [BLR ,  DEL]\n",
              "1        [CCU ,  IXR ,  BBI ,  BLR]\n",
              "2        [DEL ,  LKO ,  BOM ,  COK]\n",
              "3               [CCU ,  NAG ,  BLR]\n",
              "4               [BLR ,  NAG ,  DEL]\n",
              "                    ...            \n",
              "10678                  [CCU ,  BLR]\n",
              "10679                  [CCU ,  BLR]\n",
              "10680                  [BLR ,  DEL]\n",
              "10681                  [BLR ,  DEL]\n",
              "10682    [DEL ,  GOI ,  BOM ,  COK]\n",
              "Name: Route, Length: 10683, dtype: object"
            ]
          },
          "metadata": {},
          "execution_count": 44
        }
      ]
    },
    {
      "cell_type": "code",
      "metadata": {
        "id": "C_YMUaaN2eTJ"
      },
      "source": [
        "data_train['city1']=data_train['Route'].str[0]\n",
        "data_train['city2']=data_train['Route'].str[1]\n",
        "data_train['city3']=data_train['Route'].str[2]\n",
        "data_train['city4']=data_train['Route'].str[3]\n",
        "data_train['city5']=data_train['Route'].str[4]\n",
        "data_train['city6']=data_train['Route'].str[5]"
      ],
      "execution_count": null,
      "outputs": []
    },
    {
      "cell_type": "code",
      "metadata": {
        "id": "PYqr7h-_3JK0"
      },
      "source": [
        "# now lets prepare seperate colum for time and dates\n",
        "data_train['Dep_Time']=data_train['Dep_Time'].astype(str).str.split(':') #has to be dropped further \n",
        "data_train['dep_time_hour']=data_train['Dep_Time'].str[0]\n",
        "data_train['dep_time_min']=data_train['Dep_Time'].str[1]\n",
        "\n"
      ],
      "execution_count": null,
      "outputs": []
    },
    {
      "cell_type": "code",
      "metadata": {
        "id": "8ZagNY8P4Aoc"
      },
      "source": [
        "#now lets preprocess the arrivial time\n",
        "data_train['Arrival_Time'] = data_train['Arrival_Time'].str.split(' ') # has to be dropped further \n",
        "data_train['Arrival_date'] = data_train['Arrival_Time'].str[1]\n",
        "\n",
        "data_train['time_arrival'] = data_train['Arrival_Time'].str[0]\n",
        "data_train['time_arrival'] = data_train['time_arrival'].str.split(':')\n",
        "data_train['arrival_time_min'] = data_train['time_arrival'].str[1]\n",
        "data_train['arrival_time_hour'] = data_train['time_arrival'].str[0]\n",
        "\n"
      ],
      "execution_count": null,
      "outputs": []
    },
    {
      "cell_type": "code",
      "metadata": {
        "colab": {
          "base_uri": "https://localhost:8080/",
          "height": 475
        },
        "id": "6A2-mbrg8A5C",
        "outputId": "9515cd60-0923-466c-c021-2c5ae91379fd"
      },
      "source": [
        "data_train.head()"
      ],
      "execution_count": null,
      "outputs": [
        {
          "output_type": "execute_result",
          "data": {
            "text/html": [
              "<div>\n",
              "<style scoped>\n",
              "    .dataframe tbody tr th:only-of-type {\n",
              "        vertical-align: middle;\n",
              "    }\n",
              "\n",
              "    .dataframe tbody tr th {\n",
              "        vertical-align: top;\n",
              "    }\n",
              "\n",
              "    .dataframe thead th {\n",
              "        text-align: right;\n",
              "    }\n",
              "</style>\n",
              "<table border=\"1\" class=\"dataframe\">\n",
              "  <thead>\n",
              "    <tr style=\"text-align: right;\">\n",
              "      <th></th>\n",
              "      <th>Airline</th>\n",
              "      <th>Date_of_Journey</th>\n",
              "      <th>Source</th>\n",
              "      <th>Destination</th>\n",
              "      <th>Route</th>\n",
              "      <th>Dep_Time</th>\n",
              "      <th>Arrival_Time</th>\n",
              "      <th>Duration</th>\n",
              "      <th>Total_Stops</th>\n",
              "      <th>Additional_Info</th>\n",
              "      <th>Price</th>\n",
              "      <th>date</th>\n",
              "      <th>month</th>\n",
              "      <th>year</th>\n",
              "      <th>city1</th>\n",
              "      <th>city2</th>\n",
              "      <th>city3</th>\n",
              "      <th>city4</th>\n",
              "      <th>city5</th>\n",
              "      <th>city6</th>\n",
              "      <th>dep_time_hour</th>\n",
              "      <th>dep_time_min</th>\n",
              "      <th>Arrival_date</th>\n",
              "      <th>time_arrival</th>\n",
              "      <th>arrival_time_min</th>\n",
              "      <th>arrival_time_hour</th>\n",
              "    </tr>\n",
              "  </thead>\n",
              "  <tbody>\n",
              "    <tr>\n",
              "      <th>0</th>\n",
              "      <td>IndiGo</td>\n",
              "      <td>[24, 03, 2019]</td>\n",
              "      <td>Banglore</td>\n",
              "      <td>New Delhi</td>\n",
              "      <td>[BLR ,  DEL]</td>\n",
              "      <td>[22, 20]</td>\n",
              "      <td>[01:10, 22, Mar]</td>\n",
              "      <td>2h 50m</td>\n",
              "      <td>non-stop</td>\n",
              "      <td>No info</td>\n",
              "      <td>3897</td>\n",
              "      <td>24</td>\n",
              "      <td>03</td>\n",
              "      <td>2019</td>\n",
              "      <td>BLR</td>\n",
              "      <td>DEL</td>\n",
              "      <td>NaN</td>\n",
              "      <td>NaN</td>\n",
              "      <td>NaN</td>\n",
              "      <td>NaN</td>\n",
              "      <td>22</td>\n",
              "      <td>20</td>\n",
              "      <td>22</td>\n",
              "      <td>[01, 10]</td>\n",
              "      <td>10</td>\n",
              "      <td>01</td>\n",
              "    </tr>\n",
              "    <tr>\n",
              "      <th>1</th>\n",
              "      <td>Air India</td>\n",
              "      <td>[1, 05, 2019]</td>\n",
              "      <td>Kolkata</td>\n",
              "      <td>Banglore</td>\n",
              "      <td>[CCU ,  IXR ,  BBI ,  BLR]</td>\n",
              "      <td>[05, 50]</td>\n",
              "      <td>[13:15]</td>\n",
              "      <td>7h 25m</td>\n",
              "      <td>2 stops</td>\n",
              "      <td>No info</td>\n",
              "      <td>7662</td>\n",
              "      <td>1</td>\n",
              "      <td>05</td>\n",
              "      <td>2019</td>\n",
              "      <td>CCU</td>\n",
              "      <td>IXR</td>\n",
              "      <td>BBI</td>\n",
              "      <td>BLR</td>\n",
              "      <td>NaN</td>\n",
              "      <td>NaN</td>\n",
              "      <td>05</td>\n",
              "      <td>50</td>\n",
              "      <td>NaN</td>\n",
              "      <td>[13, 15]</td>\n",
              "      <td>15</td>\n",
              "      <td>13</td>\n",
              "    </tr>\n",
              "    <tr>\n",
              "      <th>2</th>\n",
              "      <td>Jet Airways</td>\n",
              "      <td>[9, 06, 2019]</td>\n",
              "      <td>Delhi</td>\n",
              "      <td>Cochin</td>\n",
              "      <td>[DEL ,  LKO ,  BOM ,  COK]</td>\n",
              "      <td>[09, 25]</td>\n",
              "      <td>[04:25, 10, Jun]</td>\n",
              "      <td>19h</td>\n",
              "      <td>2 stops</td>\n",
              "      <td>No info</td>\n",
              "      <td>13882</td>\n",
              "      <td>9</td>\n",
              "      <td>06</td>\n",
              "      <td>2019</td>\n",
              "      <td>DEL</td>\n",
              "      <td>LKO</td>\n",
              "      <td>BOM</td>\n",
              "      <td>COK</td>\n",
              "      <td>NaN</td>\n",
              "      <td>NaN</td>\n",
              "      <td>09</td>\n",
              "      <td>25</td>\n",
              "      <td>10</td>\n",
              "      <td>[04, 25]</td>\n",
              "      <td>25</td>\n",
              "      <td>04</td>\n",
              "    </tr>\n",
              "    <tr>\n",
              "      <th>3</th>\n",
              "      <td>IndiGo</td>\n",
              "      <td>[12, 05, 2019]</td>\n",
              "      <td>Kolkata</td>\n",
              "      <td>Banglore</td>\n",
              "      <td>[CCU ,  NAG ,  BLR]</td>\n",
              "      <td>[18, 05]</td>\n",
              "      <td>[23:30]</td>\n",
              "      <td>5h 25m</td>\n",
              "      <td>1 stop</td>\n",
              "      <td>No info</td>\n",
              "      <td>6218</td>\n",
              "      <td>12</td>\n",
              "      <td>05</td>\n",
              "      <td>2019</td>\n",
              "      <td>CCU</td>\n",
              "      <td>NAG</td>\n",
              "      <td>BLR</td>\n",
              "      <td>NaN</td>\n",
              "      <td>NaN</td>\n",
              "      <td>NaN</td>\n",
              "      <td>18</td>\n",
              "      <td>05</td>\n",
              "      <td>NaN</td>\n",
              "      <td>[23, 30]</td>\n",
              "      <td>30</td>\n",
              "      <td>23</td>\n",
              "    </tr>\n",
              "    <tr>\n",
              "      <th>4</th>\n",
              "      <td>IndiGo</td>\n",
              "      <td>[01, 03, 2019]</td>\n",
              "      <td>Banglore</td>\n",
              "      <td>New Delhi</td>\n",
              "      <td>[BLR ,  NAG ,  DEL]</td>\n",
              "      <td>[16, 50]</td>\n",
              "      <td>[21:35]</td>\n",
              "      <td>4h 45m</td>\n",
              "      <td>1 stop</td>\n",
              "      <td>No info</td>\n",
              "      <td>13302</td>\n",
              "      <td>01</td>\n",
              "      <td>03</td>\n",
              "      <td>2019</td>\n",
              "      <td>BLR</td>\n",
              "      <td>NAG</td>\n",
              "      <td>DEL</td>\n",
              "      <td>NaN</td>\n",
              "      <td>NaN</td>\n",
              "      <td>NaN</td>\n",
              "      <td>16</td>\n",
              "      <td>50</td>\n",
              "      <td>NaN</td>\n",
              "      <td>[21, 35]</td>\n",
              "      <td>35</td>\n",
              "      <td>21</td>\n",
              "    </tr>\n",
              "  </tbody>\n",
              "</table>\n",
              "</div>"
            ],
            "text/plain": [
              "       Airline Date_of_Journey  ... arrival_time_min arrival_time_hour\n",
              "0       IndiGo  [24, 03, 2019]  ...               10                01\n",
              "1    Air India   [1, 05, 2019]  ...               15                13\n",
              "2  Jet Airways   [9, 06, 2019]  ...               25                04\n",
              "3       IndiGo  [12, 05, 2019]  ...               30                23\n",
              "4       IndiGo  [01, 03, 2019]  ...               35                21\n",
              "\n",
              "[5 rows x 26 columns]"
            ]
          },
          "metadata": {},
          "execution_count": 48
        }
      ]
    },
    {
      "cell_type": "code",
      "metadata": {
        "id": "LsWJ4mJI8C0e"
      },
      "source": [
        "# duration of the flight \n",
        "\n",
        "data_train['Duration'] = data_train['Duration'].str.split(' ') # splitting into hours and mins # need to be further dropped \n",
        "data_train['Travel_hour'] = data_train['Duration'].str[0]\n",
        "\n",
        "\n",
        "data_train['Travel_hour'] = data_train['Travel_hour'].str.split('h')\n",
        "data_train['Travel_hour'] = data_train['Travel_hour'].str[0]\n",
        "data_train['Travel_hour'] = data_train['Travel_hour']\n",
        "# now lets split in time into minutes \n",
        "data_train['Travel_min'] = data_train['Duration'].str[1]\n",
        " # now lets splitting  m and other numbers \n",
        "\n",
        "data_train['Travel_min'] = data_train['Travel_min'].str.split('m')\n",
        "data_train['Travel_min'] = data_train['Travel_min'].str[0]\n",
        "\n",
        "\n"
      ],
      "execution_count": null,
      "outputs": []
    },
    {
      "cell_type": "code",
      "metadata": {
        "colab": {
          "base_uri": "https://localhost:8080/",
          "height": 475
        },
        "id": "6tzlBaxo_c0l",
        "outputId": "720fd385-95bd-4ce3-eec9-bdf00f01ad64"
      },
      "source": [
        "data_train.head()"
      ],
      "execution_count": null,
      "outputs": [
        {
          "output_type": "execute_result",
          "data": {
            "text/html": [
              "<div>\n",
              "<style scoped>\n",
              "    .dataframe tbody tr th:only-of-type {\n",
              "        vertical-align: middle;\n",
              "    }\n",
              "\n",
              "    .dataframe tbody tr th {\n",
              "        vertical-align: top;\n",
              "    }\n",
              "\n",
              "    .dataframe thead th {\n",
              "        text-align: right;\n",
              "    }\n",
              "</style>\n",
              "<table border=\"1\" class=\"dataframe\">\n",
              "  <thead>\n",
              "    <tr style=\"text-align: right;\">\n",
              "      <th></th>\n",
              "      <th>Airline</th>\n",
              "      <th>Date_of_Journey</th>\n",
              "      <th>Source</th>\n",
              "      <th>Destination</th>\n",
              "      <th>Route</th>\n",
              "      <th>Dep_Time</th>\n",
              "      <th>Arrival_Time</th>\n",
              "      <th>Duration</th>\n",
              "      <th>Total_Stops</th>\n",
              "      <th>Additional_Info</th>\n",
              "      <th>Price</th>\n",
              "      <th>date</th>\n",
              "      <th>month</th>\n",
              "      <th>year</th>\n",
              "      <th>city1</th>\n",
              "      <th>city2</th>\n",
              "      <th>city3</th>\n",
              "      <th>city4</th>\n",
              "      <th>city5</th>\n",
              "      <th>city6</th>\n",
              "      <th>dep_time_hour</th>\n",
              "      <th>dep_time_min</th>\n",
              "      <th>Arrival_date</th>\n",
              "      <th>time_arrival</th>\n",
              "      <th>arrival_time_min</th>\n",
              "      <th>arrival_time_hour</th>\n",
              "      <th>Travel_hour</th>\n",
              "      <th>Travel_min</th>\n",
              "    </tr>\n",
              "  </thead>\n",
              "  <tbody>\n",
              "    <tr>\n",
              "      <th>0</th>\n",
              "      <td>IndiGo</td>\n",
              "      <td>[24, 03, 2019]</td>\n",
              "      <td>Banglore</td>\n",
              "      <td>New Delhi</td>\n",
              "      <td>[BLR ,  DEL]</td>\n",
              "      <td>[22, 20]</td>\n",
              "      <td>[01:10, 22, Mar]</td>\n",
              "      <td>[2h, 50m]</td>\n",
              "      <td>non-stop</td>\n",
              "      <td>No info</td>\n",
              "      <td>3897</td>\n",
              "      <td>24</td>\n",
              "      <td>03</td>\n",
              "      <td>2019</td>\n",
              "      <td>BLR</td>\n",
              "      <td>DEL</td>\n",
              "      <td>NaN</td>\n",
              "      <td>NaN</td>\n",
              "      <td>NaN</td>\n",
              "      <td>NaN</td>\n",
              "      <td>22</td>\n",
              "      <td>20</td>\n",
              "      <td>22</td>\n",
              "      <td>[01, 10]</td>\n",
              "      <td>10</td>\n",
              "      <td>01</td>\n",
              "      <td>2</td>\n",
              "      <td>50</td>\n",
              "    </tr>\n",
              "    <tr>\n",
              "      <th>1</th>\n",
              "      <td>Air India</td>\n",
              "      <td>[1, 05, 2019]</td>\n",
              "      <td>Kolkata</td>\n",
              "      <td>Banglore</td>\n",
              "      <td>[CCU ,  IXR ,  BBI ,  BLR]</td>\n",
              "      <td>[05, 50]</td>\n",
              "      <td>[13:15]</td>\n",
              "      <td>[7h, 25m]</td>\n",
              "      <td>2 stops</td>\n",
              "      <td>No info</td>\n",
              "      <td>7662</td>\n",
              "      <td>1</td>\n",
              "      <td>05</td>\n",
              "      <td>2019</td>\n",
              "      <td>CCU</td>\n",
              "      <td>IXR</td>\n",
              "      <td>BBI</td>\n",
              "      <td>BLR</td>\n",
              "      <td>NaN</td>\n",
              "      <td>NaN</td>\n",
              "      <td>05</td>\n",
              "      <td>50</td>\n",
              "      <td>NaN</td>\n",
              "      <td>[13, 15]</td>\n",
              "      <td>15</td>\n",
              "      <td>13</td>\n",
              "      <td>7</td>\n",
              "      <td>25</td>\n",
              "    </tr>\n",
              "    <tr>\n",
              "      <th>2</th>\n",
              "      <td>Jet Airways</td>\n",
              "      <td>[9, 06, 2019]</td>\n",
              "      <td>Delhi</td>\n",
              "      <td>Cochin</td>\n",
              "      <td>[DEL ,  LKO ,  BOM ,  COK]</td>\n",
              "      <td>[09, 25]</td>\n",
              "      <td>[04:25, 10, Jun]</td>\n",
              "      <td>[19h]</td>\n",
              "      <td>2 stops</td>\n",
              "      <td>No info</td>\n",
              "      <td>13882</td>\n",
              "      <td>9</td>\n",
              "      <td>06</td>\n",
              "      <td>2019</td>\n",
              "      <td>DEL</td>\n",
              "      <td>LKO</td>\n",
              "      <td>BOM</td>\n",
              "      <td>COK</td>\n",
              "      <td>NaN</td>\n",
              "      <td>NaN</td>\n",
              "      <td>09</td>\n",
              "      <td>25</td>\n",
              "      <td>10</td>\n",
              "      <td>[04, 25]</td>\n",
              "      <td>25</td>\n",
              "      <td>04</td>\n",
              "      <td>19</td>\n",
              "      <td>NaN</td>\n",
              "    </tr>\n",
              "    <tr>\n",
              "      <th>3</th>\n",
              "      <td>IndiGo</td>\n",
              "      <td>[12, 05, 2019]</td>\n",
              "      <td>Kolkata</td>\n",
              "      <td>Banglore</td>\n",
              "      <td>[CCU ,  NAG ,  BLR]</td>\n",
              "      <td>[18, 05]</td>\n",
              "      <td>[23:30]</td>\n",
              "      <td>[5h, 25m]</td>\n",
              "      <td>1 stop</td>\n",
              "      <td>No info</td>\n",
              "      <td>6218</td>\n",
              "      <td>12</td>\n",
              "      <td>05</td>\n",
              "      <td>2019</td>\n",
              "      <td>CCU</td>\n",
              "      <td>NAG</td>\n",
              "      <td>BLR</td>\n",
              "      <td>NaN</td>\n",
              "      <td>NaN</td>\n",
              "      <td>NaN</td>\n",
              "      <td>18</td>\n",
              "      <td>05</td>\n",
              "      <td>NaN</td>\n",
              "      <td>[23, 30]</td>\n",
              "      <td>30</td>\n",
              "      <td>23</td>\n",
              "      <td>5</td>\n",
              "      <td>25</td>\n",
              "    </tr>\n",
              "    <tr>\n",
              "      <th>4</th>\n",
              "      <td>IndiGo</td>\n",
              "      <td>[01, 03, 2019]</td>\n",
              "      <td>Banglore</td>\n",
              "      <td>New Delhi</td>\n",
              "      <td>[BLR ,  NAG ,  DEL]</td>\n",
              "      <td>[16, 50]</td>\n",
              "      <td>[21:35]</td>\n",
              "      <td>[4h, 45m]</td>\n",
              "      <td>1 stop</td>\n",
              "      <td>No info</td>\n",
              "      <td>13302</td>\n",
              "      <td>01</td>\n",
              "      <td>03</td>\n",
              "      <td>2019</td>\n",
              "      <td>BLR</td>\n",
              "      <td>NAG</td>\n",
              "      <td>DEL</td>\n",
              "      <td>NaN</td>\n",
              "      <td>NaN</td>\n",
              "      <td>NaN</td>\n",
              "      <td>16</td>\n",
              "      <td>50</td>\n",
              "      <td>NaN</td>\n",
              "      <td>[21, 35]</td>\n",
              "      <td>35</td>\n",
              "      <td>21</td>\n",
              "      <td>4</td>\n",
              "      <td>45</td>\n",
              "    </tr>\n",
              "  </tbody>\n",
              "</table>\n",
              "</div>"
            ],
            "text/plain": [
              "       Airline Date_of_Journey  ... Travel_hour Travel_min\n",
              "0       IndiGo  [24, 03, 2019]  ...           2         50\n",
              "1    Air India   [1, 05, 2019]  ...           7         25\n",
              "2  Jet Airways   [9, 06, 2019]  ...          19        NaN\n",
              "3       IndiGo  [12, 05, 2019]  ...           5         25\n",
              "4       IndiGo  [01, 03, 2019]  ...           4         45\n",
              "\n",
              "[5 rows x 28 columns]"
            ]
          },
          "metadata": {},
          "execution_count": 50
        }
      ]
    },
    {
      "cell_type": "code",
      "metadata": {
        "id": "GA6zrlee_fBf"
      },
      "source": [
        "# now lets do it for stop coloums \n",
        "data_train['Total_Stops'].replace('non-stop','0',inplace=True)\n",
        "data_train['Total_Stops']=data_train['Total_Stops'].str.split(' ')\n",
        "data_train['Total_Stops']= data_train['Total_Stops'].str[0]\n",
        "\n",
        "\n"
      ],
      "execution_count": null,
      "outputs": []
    },
    {
      "cell_type": "code",
      "metadata": {
        "colab": {
          "base_uri": "https://localhost:8080/"
        },
        "id": "v1dE0p5BAzda",
        "outputId": "f34306c3-f23c-49e5-def3-5c8e33410ec7"
      },
      "source": [
        "# now for additional info \n",
        "data_train['Additional_Info'].unique()\n"
      ],
      "execution_count": null,
      "outputs": [
        {
          "output_type": "execute_result",
          "data": {
            "text/plain": [
              "array(['No info', 'In-flight meal not included',\n",
              "       'No check-in baggage included', '1 Short layover', 'No Info',\n",
              "       '1 Long layover', 'Change airports', 'Business class',\n",
              "       'Red-eye flight', '2 Long layover'], dtype=object)"
            ]
          },
          "metadata": {},
          "execution_count": 52
        }
      ]
    },
    {
      "cell_type": "code",
      "metadata": {
        "colab": {
          "base_uri": "https://localhost:8080/"
        },
        "id": "zJgpbO8XBO52",
        "outputId": "f44af397-983e-49d9-c04f-09cdb4d4f731"
      },
      "source": [
        "data_train.Additional_Info.replace('No Info','No info',inplace= True)\n",
        "data_train.Additional_Info.unique()"
      ],
      "execution_count": null,
      "outputs": [
        {
          "output_type": "execute_result",
          "data": {
            "text/plain": [
              "array(['No info', 'In-flight meal not included',\n",
              "       'No check-in baggage included', '1 Short layover',\n",
              "       '1 Long layover', 'Change airports', 'Business class',\n",
              "       'Red-eye flight', '2 Long layover'], dtype=object)"
            ]
          },
          "metadata": {},
          "execution_count": 53
        }
      ]
    },
    {
      "cell_type": "code",
      "metadata": {
        "id": "Ug7uS6AIDNru"
      },
      "source": [
        "# from above we can see that major of city 4,5,6 values are empty we will drop those features \n",
        "data_train.drop(['city4','city5','city6','Date_of_Journey','Dep_Time','Arrival_Time','Duration','Total_Stops','Additional_Info','Route','time_arrival'] , axis = 1,inplace= True)\n"
      ],
      "execution_count": null,
      "outputs": []
    },
    {
      "cell_type": "code",
      "metadata": {
        "colab": {
          "base_uri": "https://localhost:8080/",
          "height": 220
        },
        "id": "T6RKSeCLIkl8",
        "outputId": "37340034-e45d-4aa0-bd79-9cc741827fbc"
      },
      "source": [
        "data_train.head()\n"
      ],
      "execution_count": null,
      "outputs": [
        {
          "output_type": "execute_result",
          "data": {
            "text/html": [
              "<div>\n",
              "<style scoped>\n",
              "    .dataframe tbody tr th:only-of-type {\n",
              "        vertical-align: middle;\n",
              "    }\n",
              "\n",
              "    .dataframe tbody tr th {\n",
              "        vertical-align: top;\n",
              "    }\n",
              "\n",
              "    .dataframe thead th {\n",
              "        text-align: right;\n",
              "    }\n",
              "</style>\n",
              "<table border=\"1\" class=\"dataframe\">\n",
              "  <thead>\n",
              "    <tr style=\"text-align: right;\">\n",
              "      <th></th>\n",
              "      <th>Airline</th>\n",
              "      <th>Source</th>\n",
              "      <th>Destination</th>\n",
              "      <th>Price</th>\n",
              "      <th>date</th>\n",
              "      <th>month</th>\n",
              "      <th>year</th>\n",
              "      <th>city1</th>\n",
              "      <th>city2</th>\n",
              "      <th>city3</th>\n",
              "      <th>dep_time_hour</th>\n",
              "      <th>dep_time_min</th>\n",
              "      <th>Arrival_date</th>\n",
              "      <th>arrival_time_min</th>\n",
              "      <th>arrival_time_hour</th>\n",
              "      <th>Travel_hour</th>\n",
              "      <th>Travel_min</th>\n",
              "    </tr>\n",
              "  </thead>\n",
              "  <tbody>\n",
              "    <tr>\n",
              "      <th>0</th>\n",
              "      <td>IndiGo</td>\n",
              "      <td>Banglore</td>\n",
              "      <td>New Delhi</td>\n",
              "      <td>3897</td>\n",
              "      <td>24</td>\n",
              "      <td>03</td>\n",
              "      <td>2019</td>\n",
              "      <td>BLR</td>\n",
              "      <td>DEL</td>\n",
              "      <td>NaN</td>\n",
              "      <td>22</td>\n",
              "      <td>20</td>\n",
              "      <td>22</td>\n",
              "      <td>10</td>\n",
              "      <td>01</td>\n",
              "      <td>2</td>\n",
              "      <td>50</td>\n",
              "    </tr>\n",
              "    <tr>\n",
              "      <th>1</th>\n",
              "      <td>Air India</td>\n",
              "      <td>Kolkata</td>\n",
              "      <td>Banglore</td>\n",
              "      <td>7662</td>\n",
              "      <td>1</td>\n",
              "      <td>05</td>\n",
              "      <td>2019</td>\n",
              "      <td>CCU</td>\n",
              "      <td>IXR</td>\n",
              "      <td>BBI</td>\n",
              "      <td>05</td>\n",
              "      <td>50</td>\n",
              "      <td>NaN</td>\n",
              "      <td>15</td>\n",
              "      <td>13</td>\n",
              "      <td>7</td>\n",
              "      <td>25</td>\n",
              "    </tr>\n",
              "    <tr>\n",
              "      <th>2</th>\n",
              "      <td>Jet Airways</td>\n",
              "      <td>Delhi</td>\n",
              "      <td>Cochin</td>\n",
              "      <td>13882</td>\n",
              "      <td>9</td>\n",
              "      <td>06</td>\n",
              "      <td>2019</td>\n",
              "      <td>DEL</td>\n",
              "      <td>LKO</td>\n",
              "      <td>BOM</td>\n",
              "      <td>09</td>\n",
              "      <td>25</td>\n",
              "      <td>10</td>\n",
              "      <td>25</td>\n",
              "      <td>04</td>\n",
              "      <td>19</td>\n",
              "      <td>NaN</td>\n",
              "    </tr>\n",
              "    <tr>\n",
              "      <th>3</th>\n",
              "      <td>IndiGo</td>\n",
              "      <td>Kolkata</td>\n",
              "      <td>Banglore</td>\n",
              "      <td>6218</td>\n",
              "      <td>12</td>\n",
              "      <td>05</td>\n",
              "      <td>2019</td>\n",
              "      <td>CCU</td>\n",
              "      <td>NAG</td>\n",
              "      <td>BLR</td>\n",
              "      <td>18</td>\n",
              "      <td>05</td>\n",
              "      <td>NaN</td>\n",
              "      <td>30</td>\n",
              "      <td>23</td>\n",
              "      <td>5</td>\n",
              "      <td>25</td>\n",
              "    </tr>\n",
              "    <tr>\n",
              "      <th>4</th>\n",
              "      <td>IndiGo</td>\n",
              "      <td>Banglore</td>\n",
              "      <td>New Delhi</td>\n",
              "      <td>13302</td>\n",
              "      <td>01</td>\n",
              "      <td>03</td>\n",
              "      <td>2019</td>\n",
              "      <td>BLR</td>\n",
              "      <td>NAG</td>\n",
              "      <td>DEL</td>\n",
              "      <td>16</td>\n",
              "      <td>50</td>\n",
              "      <td>NaN</td>\n",
              "      <td>35</td>\n",
              "      <td>21</td>\n",
              "      <td>4</td>\n",
              "      <td>45</td>\n",
              "    </tr>\n",
              "  </tbody>\n",
              "</table>\n",
              "</div>"
            ],
            "text/plain": [
              "       Airline    Source Destination  ...  arrival_time_hour Travel_hour Travel_min\n",
              "0       IndiGo  Banglore   New Delhi  ...                 01           2         50\n",
              "1    Air India   Kolkata    Banglore  ...                 13           7         25\n",
              "2  Jet Airways     Delhi      Cochin  ...                 04          19        NaN\n",
              "3       IndiGo   Kolkata    Banglore  ...                 23           5         25\n",
              "4       IndiGo  Banglore   New Delhi  ...                 21           4         45\n",
              "\n",
              "[5 rows x 17 columns]"
            ]
          },
          "metadata": {},
          "execution_count": 55
        }
      ]
    },
    {
      "cell_type": "code",
      "metadata": {
        "colab": {
          "base_uri": "https://localhost:8080/"
        },
        "id": "LITCOpkQB7im",
        "outputId": "5f84c6c3-b455-4f22-cd29-2ee8b2d1141b"
      },
      "source": [
        "# we got our model almost ready but we have many dimensions like with cities with many null values lets work on it \n",
        "\n",
        "data_train.isnull().sum()"
      ],
      "execution_count": null,
      "outputs": [
        {
          "output_type": "execute_result",
          "data": {
            "text/plain": [
              "Airline                 0\n",
              "Source                  0\n",
              "Destination             0\n",
              "Price                   0\n",
              "date                    0\n",
              "month                   0\n",
              "year                    0\n",
              "city1                   1\n",
              "city2                   1\n",
              "city3                3492\n",
              "dep_time_hour           0\n",
              "dep_time_min            0\n",
              "Arrival_date         6348\n",
              "arrival_time_min        0\n",
              "arrival_time_hour       0\n",
              "Travel_hour             0\n",
              "Travel_min           1032\n",
              "dtype: int64"
            ]
          },
          "metadata": {},
          "execution_count": 56
        }
      ]
    },
    {
      "cell_type": "code",
      "metadata": {
        "colab": {
          "base_uri": "https://localhost:8080/",
          "height": 100
        },
        "id": "9y2Xv_b7DhT7",
        "outputId": "3f8747ed-5a73-4830-9760-0f39d9ba97ff"
      },
      "source": [
        "# from missing values in city 1 \n",
        "data_train[data_train['city1'].isnull()]"
      ],
      "execution_count": null,
      "outputs": [
        {
          "output_type": "execute_result",
          "data": {
            "text/html": [
              "<div>\n",
              "<style scoped>\n",
              "    .dataframe tbody tr th:only-of-type {\n",
              "        vertical-align: middle;\n",
              "    }\n",
              "\n",
              "    .dataframe tbody tr th {\n",
              "        vertical-align: top;\n",
              "    }\n",
              "\n",
              "    .dataframe thead th {\n",
              "        text-align: right;\n",
              "    }\n",
              "</style>\n",
              "<table border=\"1\" class=\"dataframe\">\n",
              "  <thead>\n",
              "    <tr style=\"text-align: right;\">\n",
              "      <th></th>\n",
              "      <th>Airline</th>\n",
              "      <th>Source</th>\n",
              "      <th>Destination</th>\n",
              "      <th>Price</th>\n",
              "      <th>date</th>\n",
              "      <th>month</th>\n",
              "      <th>year</th>\n",
              "      <th>city1</th>\n",
              "      <th>city2</th>\n",
              "      <th>city3</th>\n",
              "      <th>dep_time_hour</th>\n",
              "      <th>dep_time_min</th>\n",
              "      <th>Arrival_date</th>\n",
              "      <th>arrival_time_min</th>\n",
              "      <th>arrival_time_hour</th>\n",
              "      <th>Travel_hour</th>\n",
              "      <th>Travel_min</th>\n",
              "    </tr>\n",
              "  </thead>\n",
              "  <tbody>\n",
              "    <tr>\n",
              "      <th>9039</th>\n",
              "      <td>Air India</td>\n",
              "      <td>Delhi</td>\n",
              "      <td>Cochin</td>\n",
              "      <td>7480</td>\n",
              "      <td>6</td>\n",
              "      <td>05</td>\n",
              "      <td>2019</td>\n",
              "      <td>NaN</td>\n",
              "      <td>NaN</td>\n",
              "      <td>NaN</td>\n",
              "      <td>09</td>\n",
              "      <td>45</td>\n",
              "      <td>07</td>\n",
              "      <td>25</td>\n",
              "      <td>09</td>\n",
              "      <td>23</td>\n",
              "      <td>40</td>\n",
              "    </tr>\n",
              "  </tbody>\n",
              "</table>\n",
              "</div>"
            ],
            "text/plain": [
              "        Airline Source Destination  ...  arrival_time_hour Travel_hour Travel_min\n",
              "9039  Air India  Delhi      Cochin  ...                 09          23         40\n",
              "\n",
              "[1 rows x 17 columns]"
            ]
          },
          "metadata": {},
          "execution_count": 57
        }
      ]
    },
    {
      "cell_type": "code",
      "metadata": {
        "id": "oQNcS9Kui3tH"
      },
      "source": [
        ""
      ],
      "execution_count": null,
      "outputs": []
    },
    {
      "cell_type": "code",
      "metadata": {
        "id": "6DmAlsq6jd2M"
      },
      "source": [
        "data_train[data_train['city2'].isnull()]\n",
        "#k =data_train "
      ],
      "execution_count": null,
      "outputs": []
    },
    {
      "cell_type": "code",
      "metadata": {
        "colab": {
          "base_uri": "https://localhost:8080/"
        },
        "id": "qmA92uCyj1-u",
        "outputId": "172f6294-560a-4300-c566-84d337f3a8ab"
      },
      "source": [
        "data_train.iloc[9039]"
      ],
      "execution_count": null,
      "outputs": [
        {
          "output_type": "execute_result",
          "data": {
            "text/plain": [
              "Airline              Air India\n",
              "Source                   Delhi\n",
              "Destination             Cochin\n",
              "Price                     7480\n",
              "date                         6\n",
              "month                       05\n",
              "year                      2019\n",
              "city1                      DEL\n",
              "city2                      NaN\n",
              "city3                      NaN\n",
              "dep_time_hour               09\n",
              "dep_time_min                45\n",
              "Arrival_date                07\n",
              "arrival_time_min            25\n",
              "arrival_time_hour           09\n",
              "Travel_hour                 23\n",
              "Travel_min                  40\n",
              "Name: 9039, dtype: object"
            ]
          },
          "metadata": {},
          "execution_count": 66
        }
      ]
    },
    {
      "cell_type": "code",
      "metadata": {
        "colab": {
          "base_uri": "https://localhost:8080/"
        },
        "id": "sCSz_e90kghK",
        "outputId": "793b7b4c-b212-409e-d218-a8590d5f9d8f"
      },
      "source": [
        "data_train.city1.iloc[9039] = 'DEL'\n",
        "data_train.city2.iloc[9039]= 'COK'"
      ],
      "execution_count": null,
      "outputs": [
        {
          "output_type": "stream",
          "name": "stderr",
          "text": [
            "/usr/local/lib/python3.7/dist-packages/pandas/core/indexing.py:670: SettingWithCopyWarning: \n",
            "A value is trying to be set on a copy of a slice from a DataFrame\n",
            "\n",
            "See the caveats in the documentation: https://pandas.pydata.org/pandas-docs/stable/user_guide/indexing.html#returning-a-view-versus-a-copy\n",
            "  iloc._setitem_with_indexer(indexer, value)\n"
          ]
        }
      ]
    },
    {
      "cell_type": "code",
      "metadata": {
        "colab": {
          "base_uri": "https://localhost:8080/",
          "height": 35
        },
        "id": "iBQOribOk0JH",
        "outputId": "053b7531-2758-43f5-c053-9ac593093af7"
      },
      "source": [
        "data_train.city1.iloc[9039]\n",
        "data_train.city2.iloc[9039]"
      ],
      "execution_count": null,
      "outputs": [
        {
          "output_type": "execute_result",
          "data": {
            "application/vnd.google.colaboratory.intrinsic+json": {
              "type": "string"
            },
            "text/plain": [
              "'COK'"
            ]
          },
          "metadata": {},
          "execution_count": 71
        }
      ]
    },
    {
      "cell_type": "code",
      "metadata": {
        "colab": {
          "base_uri": "https://localhost:8080/"
        },
        "id": "zNJ2lu-3k6Ju",
        "outputId": "7121756e-3a8d-4e08-b4ea-d95a2bd31d8a"
      },
      "source": [
        "data_train.iloc[9039]"
      ],
      "execution_count": null,
      "outputs": [
        {
          "output_type": "execute_result",
          "data": {
            "text/plain": [
              "Airline              Air India\n",
              "Source                   Delhi\n",
              "Destination             Cochin\n",
              "Price                     7480\n",
              "date                         6\n",
              "month                       05\n",
              "year                      2019\n",
              "city1                      DEL\n",
              "city2                      NaN\n",
              "city3                      NaN\n",
              "dep_time_hour               09\n",
              "dep_time_min                45\n",
              "Arrival_date                07\n",
              "arrival_time_min            25\n",
              "arrival_time_hour           09\n",
              "Travel_hour                 23\n",
              "Travel_min                  40\n",
              "Name: 9039, dtype: object"
            ]
          },
          "metadata": {},
          "execution_count": 69
        }
      ]
    },
    {
      "cell_type": "code",
      "metadata": {
        "colab": {
          "base_uri": "https://localhost:8080/"
        },
        "id": "6jP-k_qnl1PP",
        "outputId": "ddb4d79c-9b74-4145-e764-0e1f4037efa4"
      },
      "source": [
        "data_train.iloc[9039]"
      ],
      "execution_count": null,
      "outputs": [
        {
          "output_type": "execute_result",
          "data": {
            "text/plain": [
              "Airline              Air India\n",
              "Source                   Delhi\n",
              "Destination             Cochin\n",
              "Price                     7480\n",
              "date                         6\n",
              "month                       05\n",
              "year                      2019\n",
              "city1                      DEL\n",
              "city2                      COK\n",
              "city3                      NaN\n",
              "dep_time_hour               09\n",
              "dep_time_min                45\n",
              "Arrival_date                07\n",
              "arrival_time_min            25\n",
              "arrival_time_hour           09\n",
              "Travel_hour                 23\n",
              "Travel_min                  40\n",
              "Name: 9039, dtype: object"
            ]
          },
          "metadata": {},
          "execution_count": 72
        }
      ]
    },
    {
      "cell_type": "code",
      "metadata": {
        "id": "k_Y5oPQ2FDYN"
      },
      "source": [
        "#lets do it for missing values \n",
        "data_train['city3'].fillna('None',inplace = True) # we are assiging since we have less missing values comparitively \n",
        "data_train['Arrival_date'].fillna(data_train['date'],inplace=True) # sincee  arrival and depture time cant be same \n",
        "data_train['Travel_min'].fillna(0,inplace= True)\n",
        "#data_train['Total_Stops'].fillna('None',inplace= True)"
      ],
      "execution_count": null,
      "outputs": []
    },
    {
      "cell_type": "code",
      "metadata": {
        "colab": {
          "base_uri": "https://localhost:8080/",
          "height": 220
        },
        "id": "-W-GunTqLIup",
        "outputId": "ac03c4a9-ab5b-4de8-c7ed-f0fa2eccea64"
      },
      "source": [
        "data_train.head()\n"
      ],
      "execution_count": null,
      "outputs": [
        {
          "output_type": "execute_result",
          "data": {
            "text/html": [
              "<div>\n",
              "<style scoped>\n",
              "    .dataframe tbody tr th:only-of-type {\n",
              "        vertical-align: middle;\n",
              "    }\n",
              "\n",
              "    .dataframe tbody tr th {\n",
              "        vertical-align: top;\n",
              "    }\n",
              "\n",
              "    .dataframe thead th {\n",
              "        text-align: right;\n",
              "    }\n",
              "</style>\n",
              "<table border=\"1\" class=\"dataframe\">\n",
              "  <thead>\n",
              "    <tr style=\"text-align: right;\">\n",
              "      <th></th>\n",
              "      <th>Airline</th>\n",
              "      <th>Source</th>\n",
              "      <th>Destination</th>\n",
              "      <th>Price</th>\n",
              "      <th>date</th>\n",
              "      <th>month</th>\n",
              "      <th>year</th>\n",
              "      <th>city1</th>\n",
              "      <th>city2</th>\n",
              "      <th>city3</th>\n",
              "      <th>dep_time_hour</th>\n",
              "      <th>dep_time_min</th>\n",
              "      <th>Arrival_date</th>\n",
              "      <th>arrival_time_min</th>\n",
              "      <th>arrival_time_hour</th>\n",
              "      <th>Travel_hour</th>\n",
              "      <th>Travel_min</th>\n",
              "    </tr>\n",
              "  </thead>\n",
              "  <tbody>\n",
              "    <tr>\n",
              "      <th>0</th>\n",
              "      <td>IndiGo</td>\n",
              "      <td>Banglore</td>\n",
              "      <td>New Delhi</td>\n",
              "      <td>3897</td>\n",
              "      <td>24</td>\n",
              "      <td>03</td>\n",
              "      <td>2019</td>\n",
              "      <td>BLR</td>\n",
              "      <td>DEL</td>\n",
              "      <td>None</td>\n",
              "      <td>22</td>\n",
              "      <td>20</td>\n",
              "      <td>22</td>\n",
              "      <td>10</td>\n",
              "      <td>01</td>\n",
              "      <td>2</td>\n",
              "      <td>50</td>\n",
              "    </tr>\n",
              "    <tr>\n",
              "      <th>1</th>\n",
              "      <td>Air India</td>\n",
              "      <td>Kolkata</td>\n",
              "      <td>Banglore</td>\n",
              "      <td>7662</td>\n",
              "      <td>1</td>\n",
              "      <td>05</td>\n",
              "      <td>2019</td>\n",
              "      <td>CCU</td>\n",
              "      <td>IXR</td>\n",
              "      <td>BBI</td>\n",
              "      <td>05</td>\n",
              "      <td>50</td>\n",
              "      <td>1</td>\n",
              "      <td>15</td>\n",
              "      <td>13</td>\n",
              "      <td>7</td>\n",
              "      <td>25</td>\n",
              "    </tr>\n",
              "    <tr>\n",
              "      <th>2</th>\n",
              "      <td>Jet Airways</td>\n",
              "      <td>Delhi</td>\n",
              "      <td>Cochin</td>\n",
              "      <td>13882</td>\n",
              "      <td>9</td>\n",
              "      <td>06</td>\n",
              "      <td>2019</td>\n",
              "      <td>DEL</td>\n",
              "      <td>LKO</td>\n",
              "      <td>BOM</td>\n",
              "      <td>09</td>\n",
              "      <td>25</td>\n",
              "      <td>10</td>\n",
              "      <td>25</td>\n",
              "      <td>04</td>\n",
              "      <td>19</td>\n",
              "      <td>0</td>\n",
              "    </tr>\n",
              "    <tr>\n",
              "      <th>3</th>\n",
              "      <td>IndiGo</td>\n",
              "      <td>Kolkata</td>\n",
              "      <td>Banglore</td>\n",
              "      <td>6218</td>\n",
              "      <td>12</td>\n",
              "      <td>05</td>\n",
              "      <td>2019</td>\n",
              "      <td>CCU</td>\n",
              "      <td>NAG</td>\n",
              "      <td>BLR</td>\n",
              "      <td>18</td>\n",
              "      <td>05</td>\n",
              "      <td>12</td>\n",
              "      <td>30</td>\n",
              "      <td>23</td>\n",
              "      <td>5</td>\n",
              "      <td>25</td>\n",
              "    </tr>\n",
              "    <tr>\n",
              "      <th>4</th>\n",
              "      <td>IndiGo</td>\n",
              "      <td>Banglore</td>\n",
              "      <td>New Delhi</td>\n",
              "      <td>13302</td>\n",
              "      <td>01</td>\n",
              "      <td>03</td>\n",
              "      <td>2019</td>\n",
              "      <td>BLR</td>\n",
              "      <td>NAG</td>\n",
              "      <td>DEL</td>\n",
              "      <td>16</td>\n",
              "      <td>50</td>\n",
              "      <td>01</td>\n",
              "      <td>35</td>\n",
              "      <td>21</td>\n",
              "      <td>4</td>\n",
              "      <td>45</td>\n",
              "    </tr>\n",
              "  </tbody>\n",
              "</table>\n",
              "</div>"
            ],
            "text/plain": [
              "       Airline    Source Destination  ...  arrival_time_hour Travel_hour Travel_min\n",
              "0       IndiGo  Banglore   New Delhi  ...                 01           2         50\n",
              "1    Air India   Kolkata    Banglore  ...                 13           7         25\n",
              "2  Jet Airways     Delhi      Cochin  ...                 04          19          0\n",
              "3       IndiGo   Kolkata    Banglore  ...                 23           5         25\n",
              "4       IndiGo  Banglore   New Delhi  ...                 21           4         45\n",
              "\n",
              "[5 rows x 17 columns]"
            ]
          },
          "metadata": {},
          "execution_count": 74
        }
      ]
    },
    {
      "cell_type": "code",
      "metadata": {
        "colab": {
          "base_uri": "https://localhost:8080/"
        },
        "id": "5qsTLpqPG1Ee",
        "outputId": "1e6163df-99f1-4553-e7bc-ceba3dda7ea0"
      },
      "source": [
        "data_train.info()\n"
      ],
      "execution_count": null,
      "outputs": [
        {
          "output_type": "stream",
          "name": "stdout",
          "text": [
            "<class 'pandas.core.frame.DataFrame'>\n",
            "RangeIndex: 10683 entries, 0 to 10682\n",
            "Data columns (total 17 columns):\n",
            " #   Column             Non-Null Count  Dtype \n",
            "---  ------             --------------  ----- \n",
            " 0   Airline            10683 non-null  object\n",
            " 1   Source             10683 non-null  object\n",
            " 2   Destination        10683 non-null  object\n",
            " 3   Price              10683 non-null  int64 \n",
            " 4   date               10683 non-null  object\n",
            " 5   month              10683 non-null  object\n",
            " 6   year               10683 non-null  object\n",
            " 7   city1              10683 non-null  object\n",
            " 8   city2              10683 non-null  object\n",
            " 9   city3              10683 non-null  object\n",
            " 10  dep_time_hour      10683 non-null  object\n",
            " 11  dep_time_min       10683 non-null  object\n",
            " 12  Arrival_date       10683 non-null  object\n",
            " 13  arrival_time_min   10683 non-null  object\n",
            " 14  arrival_time_hour  10683 non-null  object\n",
            " 15  Travel_hour        10683 non-null  object\n",
            " 16  Travel_min         10683 non-null  object\n",
            "dtypes: int64(1), object(16)\n",
            "memory usage: 1.4+ MB\n"
          ]
        }
      ]
    },
    {
      "cell_type": "code",
      "metadata": {
        "id": "hsNsmQsTLmLt"
      },
      "source": [
        "\"\"\"data_train.drop(index=9039,inplace= True ,axis=0)\n",
        "data_train[data_train['Travel_hour']=='5m'] #ValueError: invalid literal for int() with base 10: '5m' so we are editing in a precell  for the code below \n",
        "                                            #data_train['Travel_hour']=data_train.Travel_hour.astype('int64')\n",
        "data_train.drop(index=6474,inplace= True,axis=0)\"\"\""
      ],
      "execution_count": null,
      "outputs": []
    },
    {
      "cell_type": "code",
      "metadata": {
        "id": "Z7u9b_JsG4yQ"
      },
      "source": [
        "# now lets change the datatype into integers \n",
        "data_train['date']=data_train.date.astype('int64')\n",
        "data_train['month ']=data_train.month.astype('int64')\n",
        "data_train['year']=data_train.year.astype('int64')\n",
        "data_train['dep_time_hour']=data_train.dep_time_hour.astype('int64')\n",
        "data_train['dep_time_min']=data_train.dep_time_min.astype('int64')\n",
        "data_train['Arrival_date']=data_train.Arrival_date.astype('int64')\n",
        "\n",
        "data_train['arrival_time_hour']=data_train.arrival_time_hour.astype('int64')\n",
        "data_train['arrival_time_min']=data_train.arrival_time_min.astype('int64')\n",
        "#data_train['Travel_hour']=data_train.Travel_hour.astype('int64') #invalid literal for int() with base 10: '5m' \n",
        "data_train['Travel_min']=data_train.Travel_min.astype('int64')"
      ],
      "execution_count": null,
      "outputs": []
    },
    {
      "cell_type": "code",
      "metadata": {
        "colab": {
          "base_uri": "https://localhost:8080/",
          "height": 100
        },
        "id": "nZcNBTJVn2pu",
        "outputId": "0b9fec43-47d1-438f-d274-be8743ff63ba"
      },
      "source": [
        "data_train[data_train['Travel_hour']=='5m']"
      ],
      "execution_count": null,
      "outputs": [
        {
          "output_type": "execute_result",
          "data": {
            "text/html": [
              "<div>\n",
              "<style scoped>\n",
              "    .dataframe tbody tr th:only-of-type {\n",
              "        vertical-align: middle;\n",
              "    }\n",
              "\n",
              "    .dataframe tbody tr th {\n",
              "        vertical-align: top;\n",
              "    }\n",
              "\n",
              "    .dataframe thead th {\n",
              "        text-align: right;\n",
              "    }\n",
              "</style>\n",
              "<table border=\"1\" class=\"dataframe\">\n",
              "  <thead>\n",
              "    <tr style=\"text-align: right;\">\n",
              "      <th></th>\n",
              "      <th>Airline</th>\n",
              "      <th>Source</th>\n",
              "      <th>Destination</th>\n",
              "      <th>Price</th>\n",
              "      <th>date</th>\n",
              "      <th>month</th>\n",
              "      <th>year</th>\n",
              "      <th>city1</th>\n",
              "      <th>city2</th>\n",
              "      <th>city3</th>\n",
              "      <th>dep_time_hour</th>\n",
              "      <th>dep_time_min</th>\n",
              "      <th>Arrival_date</th>\n",
              "      <th>arrival_time_min</th>\n",
              "      <th>arrival_time_hour</th>\n",
              "      <th>Travel_hour</th>\n",
              "      <th>Travel_min</th>\n",
              "      <th>month</th>\n",
              "    </tr>\n",
              "  </thead>\n",
              "  <tbody>\n",
              "    <tr>\n",
              "      <th>6474</th>\n",
              "      <td>Air India</td>\n",
              "      <td>Mumbai</td>\n",
              "      <td>Hyderabad</td>\n",
              "      <td>17327</td>\n",
              "      <td>6</td>\n",
              "      <td>03</td>\n",
              "      <td>2019</td>\n",
              "      <td>BOM</td>\n",
              "      <td>GOI</td>\n",
              "      <td>PNQ</td>\n",
              "      <td>16</td>\n",
              "      <td>50</td>\n",
              "      <td>6</td>\n",
              "      <td>55</td>\n",
              "      <td>16</td>\n",
              "      <td>5m</td>\n",
              "      <td>0</td>\n",
              "      <td>3</td>\n",
              "    </tr>\n",
              "  </tbody>\n",
              "</table>\n",
              "</div>"
            ],
            "text/plain": [
              "        Airline  Source Destination  ...  Travel_hour  Travel_min month \n",
              "6474  Air India  Mumbai   Hyderabad  ...           5m           0      3\n",
              "\n",
              "[1 rows x 18 columns]"
            ]
          },
          "metadata": {},
          "execution_count": 77
        }
      ]
    },
    {
      "cell_type": "code",
      "metadata": {
        "id": "GGaG8fc4oABb"
      },
      "source": [
        "data_train.drop(index=6474,axis=0,inplace=True) #invalid literal for int() with base 10: '5m' "
      ],
      "execution_count": null,
      "outputs": []
    },
    {
      "cell_type": "code",
      "metadata": {
        "id": "BRP6cqxpoROW"
      },
      "source": [
        "data_train['Travel_hour']=data_train.Travel_hour.astype('int64')"
      ],
      "execution_count": null,
      "outputs": []
    },
    {
      "cell_type": "code",
      "metadata": {
        "id": "A50VXst3J3kt"
      },
      "source": [
        "#now lets do EDA before that we make our data into categorical and numnerical\n",
        "numerical =['date','month','year','dep_time_hour','dep_time_min','Arrival_date','arrival_time_min','arrival_time_hour','Travel_hour','Travel_min']\n",
        "categorical=['Airline','Source','Destination','city1','city2','city3']"
      ],
      "execution_count": null,
      "outputs": []
    },
    {
      "cell_type": "markdown",
      "metadata": {
        "id": "-revtKVGSWAn"
      },
      "source": [
        "EDA AND plotting "
      ]
    },
    {
      "cell_type": "code",
      "metadata": {
        "colab": {
          "base_uri": "https://localhost:8080/",
          "height": 733
        },
        "id": "6Rxanj4-SY9V",
        "outputId": "3f104f43-6f11-4baf-800c-4a193df660dd"
      },
      "source": [
        "# first for categorical data \n",
        "import matplotlib.pyplot as plt\n",
        "import seaborn as sns \n",
        "\n",
        "\n",
        "j =1 \n",
        "plt.figure(figsize=(18,25))\n",
        "for i in categorical:\n",
        "  plt.subplot(6,3,j)#xaxis \n",
        "  matplotlib.pyplot.xticks(rotation=90) \n",
        "  sns.countplot(data_train[i])#yaxis \n",
        "  \n",
        "  plt.tight_layout(pad =3.0)\n",
        "  j=j+1\n",
        "plt.show()\n"
      ],
      "execution_count": null,
      "outputs": [
        {
          "output_type": "stream",
          "name": "stderr",
          "text": [
            "/usr/local/lib/python3.7/dist-packages/seaborn/_decorators.py:43: FutureWarning: Pass the following variable as a keyword arg: x. From version 0.12, the only valid positional argument will be `data`, and passing other arguments without an explicit keyword will result in an error or misinterpretation.\n",
            "  FutureWarning\n",
            "/usr/local/lib/python3.7/dist-packages/seaborn/_decorators.py:43: FutureWarning: Pass the following variable as a keyword arg: x. From version 0.12, the only valid positional argument will be `data`, and passing other arguments without an explicit keyword will result in an error or misinterpretation.\n",
            "  FutureWarning\n",
            "/usr/local/lib/python3.7/dist-packages/seaborn/_decorators.py:43: FutureWarning: Pass the following variable as a keyword arg: x. From version 0.12, the only valid positional argument will be `data`, and passing other arguments without an explicit keyword will result in an error or misinterpretation.\n",
            "  FutureWarning\n",
            "/usr/local/lib/python3.7/dist-packages/seaborn/_decorators.py:43: FutureWarning: Pass the following variable as a keyword arg: x. From version 0.12, the only valid positional argument will be `data`, and passing other arguments without an explicit keyword will result in an error or misinterpretation.\n",
            "  FutureWarning\n",
            "/usr/local/lib/python3.7/dist-packages/seaborn/_decorators.py:43: FutureWarning: Pass the following variable as a keyword arg: x. From version 0.12, the only valid positional argument will be `data`, and passing other arguments without an explicit keyword will result in an error or misinterpretation.\n",
            "  FutureWarning\n",
            "/usr/local/lib/python3.7/dist-packages/seaborn/_decorators.py:43: FutureWarning: Pass the following variable as a keyword arg: x. From version 0.12, the only valid positional argument will be `data`, and passing other arguments without an explicit keyword will result in an error or misinterpretation.\n",
            "  FutureWarning\n"
          ]
        },
        {
          "output_type": "display_data",
          "data": {
            "image/png": "[encoded data removed]",
            "text/plain": [
              "<Figure size 1296x1800 with 6 Axes>"
            ]
          },
          "metadata": {
            "needs_background": "light"
          }
        }
      ]
    },
    {
      "cell_type": "markdown",
      "metadata": {
        "id": "VVbsE0vDVs-v"
      },
      "source": [
        "**observation made **bold text**\n",
        "1)jet airways>indigo>airinida based on the rowcount .\n",
        "vistra ,trujet\n",
        "2)delhi is major source for all flight take off\n",
        "3) cheannai has min take off\n",
        "4)cochin is where max plane arrive \n",
        "5)Kolkata has the lowest count destination\n",
        "6)Most of flights take a stop in Bombay in city 2\n"
      ]
    },
    {
      "cell_type": "code",
      "metadata": {
        "colab": {
          "base_uri": "https://localhost:8080/",
          "height": 402
        },
        "id": "ijzoOV3cWlph",
        "outputId": "1d61e204-b44b-4acd-fec0-8adf8e039655"
      },
      "source": [
        "# now lets check for price distribution \n",
        "plt.figure(figsize=(20,10))\n",
        "sns.displot(data_train.Price)"
      ],
      "execution_count": null,
      "outputs": [
        {
          "output_type": "execute_result",
          "data": {
            "text/plain": [
              "<seaborn.axisgrid.FacetGrid at 0x7f9acd65a210>"
            ]
          },
          "metadata": {},
          "execution_count": 84
        },
        {
          "output_type": "display_data",
          "data": {
            "text/plain": [
              "<Figure size 1440x720 with 0 Axes>"
            ]
          },
          "metadata": {}
        },
        {
          "output_type": "display_data",
          "data": {
            "image/png": "[encoded data removed]",
            "text/plain": [
              "<Figure size 360x360 with 1 Axes>"
            ]
          },
          "metadata": {
            "needs_background": "light"
          }
        }
      ]
    },
    {
      "cell_type": "code",
      "metadata": {
        "id": "D2hKjgDdqa_j"
      },
      "source": [
        "# frrom above plot minimum value looks like 1000 ad max value is around 78k or 79k approrach from graph "
      ],
      "execution_count": null,
      "outputs": []
    },
    {
      "cell_type": "code",
      "metadata": {
        "colab": {
          "base_uri": "https://localhost:8080/",
          "height": 665
        },
        "id": "EYnuXVWraF42",
        "outputId": "b315eb97-030d-4264-faeb-6ce18be87c15"
      },
      "source": [
        "#now comparing the features with prices with categorical features \n",
        "j=1 \n",
        "plt.figure(figsize=(30,45))\n",
        "import matplotlib\n",
        "\n",
        "for i in categorical:\n",
        "  plt.subplot(6,3,j)\n",
        "  sns.scatterplot(x=data_train[i],y=data_train.Price)\n",
        "  matplotlib.pyplot.xticks(rotation=90)\n",
        "  plt.tight_layout(pad=4)\n",
        "  j=j+1\n",
        "\n",
        "plt.show()"
      ],
      "execution_count": null,
      "outputs": [
        {
          "output_type": "display_data",
          "data": {
            "image/png": "[encoded data removed]",
            "text/plain": [
              "<Figure size 2160x3240 with 6 Axes>"
            ]
          },
          "metadata": {
            "needs_background": "light"
          }
        }
      ]
    },
    {
      "cell_type": "code",
      "metadata": {
        "colab": {
          "base_uri": "https://localhost:8080/",
          "height": 52
        },
        "id": "k43yVMVjq_iy",
        "outputId": "198877b0-384a-438b-f4b3-306ca802abcf"
      },
      "source": [
        "\"\"\" observations made are 1)Jet airways business class has the highest prices between 50k — 80k\n",
        "2)high cost flights have destination as Delhi\n",
        "3)lights depart from bangalore, rest of the flights have prices between 3k — 50k\n",
        "4)city1 qwith banglore has highet price \n",
        "5)city2 with bombay has higehst price   \"\"\""
      ],
      "execution_count": null,
      "outputs": [
        {
          "output_type": "execute_result",
          "data": {
            "application/vnd.google.colaboratory.intrinsic+json": {
              "type": "string"
            },
            "text/plain": [
              "' observations made are 1)Jet airways business class has the highest prices between 50k — 80k\\n2)high cost flights have destination as Delhi\\n3)lights depart from bangalore, rest of the flights have prices between 3k — 50k\\n4)city1 qwith banglore has highet price \\n5)city2 with bombay has higehst price   '"
            ]
          },
          "metadata": {},
          "execution_count": 86
        }
      ]
    },
    {
      "cell_type": "code",
      "metadata": {
        "colab": {
          "base_uri": "https://localhost:8080/",
          "height": 534
        },
        "id": "WNZDDHTar5uc",
        "outputId": "f621cd39-6200-4316-fcaf-d3304740a8ea"
      },
      "source": [
        "data_train[data_train['Price']>=50000]"
      ],
      "execution_count": null,
      "outputs": [
        {
          "output_type": "execute_result",
          "data": {
            "text/html": [
              "<div>\n",
              "<style scoped>\n",
              "    .dataframe tbody tr th:only-of-type {\n",
              "        vertical-align: middle;\n",
              "    }\n",
              "\n",
              "    .dataframe tbody tr th {\n",
              "        vertical-align: top;\n",
              "    }\n",
              "\n",
              "    .dataframe thead th {\n",
              "        text-align: right;\n",
              "    }\n",
              "</style>\n",
              "<table border=\"1\" class=\"dataframe\">\n",
              "  <thead>\n",
              "    <tr style=\"text-align: right;\">\n",
              "      <th></th>\n",
              "      <th>Airline</th>\n",
              "      <th>Source</th>\n",
              "      <th>Destination</th>\n",
              "      <th>Price</th>\n",
              "      <th>date</th>\n",
              "      <th>month</th>\n",
              "      <th>year</th>\n",
              "      <th>city1</th>\n",
              "      <th>city2</th>\n",
              "      <th>city3</th>\n",
              "      <th>dep_time_hour</th>\n",
              "      <th>dep_time_min</th>\n",
              "      <th>Arrival_date</th>\n",
              "      <th>arrival_time_min</th>\n",
              "      <th>arrival_time_hour</th>\n",
              "      <th>Travel_hour</th>\n",
              "      <th>Travel_min</th>\n",
              "      <th>month</th>\n",
              "    </tr>\n",
              "  </thead>\n",
              "  <tbody>\n",
              "    <tr>\n",
              "      <th>657</th>\n",
              "      <td>Jet Airways Business</td>\n",
              "      <td>Banglore</td>\n",
              "      <td>New Delhi</td>\n",
              "      <td>52229</td>\n",
              "      <td>1</td>\n",
              "      <td>03</td>\n",
              "      <td>2019</td>\n",
              "      <td>BLR</td>\n",
              "      <td>BOM</td>\n",
              "      <td>DEL</td>\n",
              "      <td>5</td>\n",
              "      <td>45</td>\n",
              "      <td>1</td>\n",
              "      <td>45</td>\n",
              "      <td>10</td>\n",
              "      <td>5</td>\n",
              "      <td>0</td>\n",
              "      <td>3</td>\n",
              "    </tr>\n",
              "    <tr>\n",
              "      <th>1478</th>\n",
              "      <td>Jet Airways</td>\n",
              "      <td>Banglore</td>\n",
              "      <td>New Delhi</td>\n",
              "      <td>54826</td>\n",
              "      <td>18</td>\n",
              "      <td>03</td>\n",
              "      <td>2019</td>\n",
              "      <td>BLR</td>\n",
              "      <td>BOM</td>\n",
              "      <td>DEL</td>\n",
              "      <td>18</td>\n",
              "      <td>40</td>\n",
              "      <td>16</td>\n",
              "      <td>45</td>\n",
              "      <td>0</td>\n",
              "      <td>6</td>\n",
              "      <td>5</td>\n",
              "      <td>3</td>\n",
              "    </tr>\n",
              "    <tr>\n",
              "      <th>2618</th>\n",
              "      <td>Jet Airways</td>\n",
              "      <td>Banglore</td>\n",
              "      <td>New Delhi</td>\n",
              "      <td>54826</td>\n",
              "      <td>18</td>\n",
              "      <td>03</td>\n",
              "      <td>2019</td>\n",
              "      <td>BLR</td>\n",
              "      <td>BOM</td>\n",
              "      <td>DEL</td>\n",
              "      <td>22</td>\n",
              "      <td>50</td>\n",
              "      <td>16</td>\n",
              "      <td>5</td>\n",
              "      <td>5</td>\n",
              "      <td>6</td>\n",
              "      <td>15</td>\n",
              "      <td>3</td>\n",
              "    </tr>\n",
              "    <tr>\n",
              "      <th>2924</th>\n",
              "      <td>Jet Airways Business</td>\n",
              "      <td>Banglore</td>\n",
              "      <td>New Delhi</td>\n",
              "      <td>79512</td>\n",
              "      <td>1</td>\n",
              "      <td>03</td>\n",
              "      <td>2019</td>\n",
              "      <td>BLR</td>\n",
              "      <td>BOM</td>\n",
              "      <td>DEL</td>\n",
              "      <td>5</td>\n",
              "      <td>45</td>\n",
              "      <td>1</td>\n",
              "      <td>25</td>\n",
              "      <td>11</td>\n",
              "      <td>5</td>\n",
              "      <td>40</td>\n",
              "      <td>3</td>\n",
              "    </tr>\n",
              "    <tr>\n",
              "      <th>5372</th>\n",
              "      <td>Jet Airways Business</td>\n",
              "      <td>Banglore</td>\n",
              "      <td>New Delhi</td>\n",
              "      <td>62427</td>\n",
              "      <td>1</td>\n",
              "      <td>03</td>\n",
              "      <td>2019</td>\n",
              "      <td>BLR</td>\n",
              "      <td>BOM</td>\n",
              "      <td>DEL</td>\n",
              "      <td>5</td>\n",
              "      <td>45</td>\n",
              "      <td>1</td>\n",
              "      <td>25</td>\n",
              "      <td>12</td>\n",
              "      <td>6</td>\n",
              "      <td>40</td>\n",
              "      <td>3</td>\n",
              "    </tr>\n",
              "    <tr>\n",
              "      <th>5439</th>\n",
              "      <td>Jet Airways</td>\n",
              "      <td>Banglore</td>\n",
              "      <td>New Delhi</td>\n",
              "      <td>54826</td>\n",
              "      <td>1</td>\n",
              "      <td>03</td>\n",
              "      <td>2019</td>\n",
              "      <td>BLR</td>\n",
              "      <td>BOM</td>\n",
              "      <td>DEL</td>\n",
              "      <td>16</td>\n",
              "      <td>55</td>\n",
              "      <td>1</td>\n",
              "      <td>0</td>\n",
              "      <td>23</td>\n",
              "      <td>6</td>\n",
              "      <td>5</td>\n",
              "      <td>3</td>\n",
              "    </tr>\n",
              "    <tr>\n",
              "      <th>9715</th>\n",
              "      <td>Jet Airways Business</td>\n",
              "      <td>Delhi</td>\n",
              "      <td>Cochin</td>\n",
              "      <td>52285</td>\n",
              "      <td>6</td>\n",
              "      <td>03</td>\n",
              "      <td>2019</td>\n",
              "      <td>DEL</td>\n",
              "      <td>ATQ</td>\n",
              "      <td>BOM</td>\n",
              "      <td>20</td>\n",
              "      <td>5</td>\n",
              "      <td>7</td>\n",
              "      <td>25</td>\n",
              "      <td>4</td>\n",
              "      <td>8</td>\n",
              "      <td>20</td>\n",
              "      <td>3</td>\n",
              "    </tr>\n",
              "    <tr>\n",
              "      <th>10364</th>\n",
              "      <td>Jet Airways Business</td>\n",
              "      <td>Banglore</td>\n",
              "      <td>New Delhi</td>\n",
              "      <td>57209</td>\n",
              "      <td>1</td>\n",
              "      <td>03</td>\n",
              "      <td>2019</td>\n",
              "      <td>BLR</td>\n",
              "      <td>MAA</td>\n",
              "      <td>DEL</td>\n",
              "      <td>9</td>\n",
              "      <td>45</td>\n",
              "      <td>1</td>\n",
              "      <td>25</td>\n",
              "      <td>14</td>\n",
              "      <td>4</td>\n",
              "      <td>40</td>\n",
              "      <td>3</td>\n",
              "    </tr>\n",
              "  </tbody>\n",
              "</table>\n",
              "</div>"
            ],
            "text/plain": [
              "                    Airline    Source  ... Travel_min  month \n",
              "657    Jet Airways Business  Banglore  ...          0       3\n",
              "1478            Jet Airways  Banglore  ...          5       3\n",
              "2618            Jet Airways  Banglore  ...         15       3\n",
              "2924   Jet Airways Business  Banglore  ...         40       3\n",
              "5372   Jet Airways Business  Banglore  ...         40       3\n",
              "5439            Jet Airways  Banglore  ...          5       3\n",
              "9715   Jet Airways Business     Delhi  ...         20       3\n",
              "10364  Jet Airways Business  Banglore  ...         40       3\n",
              "\n",
              "[8 rows x 18 columns]"
            ]
          },
          "metadata": {},
          "execution_count": 87
        }
      ]
    },
    {
      "cell_type": "code",
      "metadata": {
        "colab": {
          "base_uri": "https://localhost:8080/",
          "height": 1000
        },
        "id": "8unNdX1RsSWC",
        "outputId": "2ec32f70-b62e-4943-acd8-350098311cfe"
      },
      "source": [
        "#price releation wiht numerical features \n",
        "j=1 \n",
        "plt.figure(figsize=(30,45))\n",
        "import matplotlib\n",
        "\n",
        "for i in numerical:\n",
        "  plt.subplot(6,3,j)\n",
        "  sns.scatterplot(x=data_train[i],y=data_train.Price)\n",
        "  matplotlib.pyplot.xticks(rotation=90)\n",
        "  plt.tight_layout(pad=4)\n",
        "  j=j+1\n",
        "\n",
        "plt.show()"
      ],
      "execution_count": null,
      "outputs": [
        {
          "output_type": "display_data",
          "data": {
            "image/png": "[encoded data removed]",
            "text/plain": [
              "<Figure size 2160x3240 with 10 Axes>"
            ]
          },
          "metadata": {
            "needs_background": "light"
          }
        }
      ]
    },
    {
      "cell_type": "code",
      "metadata": {
        "id": "NV_9KWMcspya"
      },
      "source": [
        "\"\"\" observation \n",
        "1)High price flights are during starting of month # arrivial date \n",
        "2)high prices are dring march month (3)\n",
        "3)increase in travel hours, price increases,   \"\"\""
      ],
      "execution_count": null,
      "outputs": []
    },
    {
      "cell_type": "code",
      "metadata": {
        "id": "fh24Pc4At5OU"
      },
      "source": [
        "data_train.drop(['arrival_time_min','year','dep_time_min'],inplace= True ,axis =1)\n"
      ],
      "execution_count": null,
      "outputs": []
    },
    {
      "cell_type": "code",
      "metadata": {
        "colab": {
          "base_uri": "https://localhost:8080/",
          "height": 417
        },
        "id": "gjyB2DJ9vd_q",
        "outputId": "8fe76b4c-0c4c-4b6b-b93d-b8c60a392d31"
      },
      "source": [
        "data_train"
      ],
      "execution_count": null,
      "outputs": [
        {
          "output_type": "execute_result",
          "data": {
            "text/html": [
              "<div>\n",
              "<style scoped>\n",
              "    .dataframe tbody tr th:only-of-type {\n",
              "        vertical-align: middle;\n",
              "    }\n",
              "\n",
              "    .dataframe tbody tr th {\n",
              "        vertical-align: top;\n",
              "    }\n",
              "\n",
              "    .dataframe thead th {\n",
              "        text-align: right;\n",
              "    }\n",
              "</style>\n",
              "<table border=\"1\" class=\"dataframe\">\n",
              "  <thead>\n",
              "    <tr style=\"text-align: right;\">\n",
              "      <th></th>\n",
              "      <th>Airline</th>\n",
              "      <th>Source</th>\n",
              "      <th>Destination</th>\n",
              "      <th>Price</th>\n",
              "      <th>date</th>\n",
              "      <th>month</th>\n",
              "      <th>city1</th>\n",
              "      <th>city2</th>\n",
              "      <th>city3</th>\n",
              "      <th>dep_time_hour</th>\n",
              "      <th>Arrival_date</th>\n",
              "      <th>arrival_time_hour</th>\n",
              "      <th>Travel_hour</th>\n",
              "      <th>Travel_min</th>\n",
              "      <th>month</th>\n",
              "    </tr>\n",
              "  </thead>\n",
              "  <tbody>\n",
              "    <tr>\n",
              "      <th>0</th>\n",
              "      <td>IndiGo</td>\n",
              "      <td>Banglore</td>\n",
              "      <td>New Delhi</td>\n",
              "      <td>3897</td>\n",
              "      <td>24</td>\n",
              "      <td>03</td>\n",
              "      <td>BLR</td>\n",
              "      <td>DEL</td>\n",
              "      <td>None</td>\n",
              "      <td>22</td>\n",
              "      <td>22</td>\n",
              "      <td>1</td>\n",
              "      <td>2</td>\n",
              "      <td>50</td>\n",
              "      <td>3</td>\n",
              "    </tr>\n",
              "    <tr>\n",
              "      <th>1</th>\n",
              "      <td>Air India</td>\n",
              "      <td>Kolkata</td>\n",
              "      <td>Banglore</td>\n",
              "      <td>7662</td>\n",
              "      <td>1</td>\n",
              "      <td>05</td>\n",
              "      <td>CCU</td>\n",
              "      <td>IXR</td>\n",
              "      <td>BBI</td>\n",
              "      <td>5</td>\n",
              "      <td>1</td>\n",
              "      <td>13</td>\n",
              "      <td>7</td>\n",
              "      <td>25</td>\n",
              "      <td>5</td>\n",
              "    </tr>\n",
              "    <tr>\n",
              "      <th>2</th>\n",
              "      <td>Jet Airways</td>\n",
              "      <td>Delhi</td>\n",
              "      <td>Cochin</td>\n",
              "      <td>13882</td>\n",
              "      <td>9</td>\n",
              "      <td>06</td>\n",
              "      <td>DEL</td>\n",
              "      <td>LKO</td>\n",
              "      <td>BOM</td>\n",
              "      <td>9</td>\n",
              "      <td>10</td>\n",
              "      <td>4</td>\n",
              "      <td>19</td>\n",
              "      <td>0</td>\n",
              "      <td>6</td>\n",
              "    </tr>\n",
              "    <tr>\n",
              "      <th>3</th>\n",
              "      <td>IndiGo</td>\n",
              "      <td>Kolkata</td>\n",
              "      <td>Banglore</td>\n",
              "      <td>6218</td>\n",
              "      <td>12</td>\n",
              "      <td>05</td>\n",
              "      <td>CCU</td>\n",
              "      <td>NAG</td>\n",
              "      <td>BLR</td>\n",
              "      <td>18</td>\n",
              "      <td>12</td>\n",
              "      <td>23</td>\n",
              "      <td>5</td>\n",
              "      <td>25</td>\n",
              "      <td>5</td>\n",
              "    </tr>\n",
              "    <tr>\n",
              "      <th>4</th>\n",
              "      <td>IndiGo</td>\n",
              "      <td>Banglore</td>\n",
              "      <td>New Delhi</td>\n",
              "      <td>13302</td>\n",
              "      <td>1</td>\n",
              "      <td>03</td>\n",
              "      <td>BLR</td>\n",
              "      <td>NAG</td>\n",
              "      <td>DEL</td>\n",
              "      <td>16</td>\n",
              "      <td>1</td>\n",
              "      <td>21</td>\n",
              "      <td>4</td>\n",
              "      <td>45</td>\n",
              "      <td>3</td>\n",
              "    </tr>\n",
              "    <tr>\n",
              "      <th>...</th>\n",
              "      <td>...</td>\n",
              "      <td>...</td>\n",
              "      <td>...</td>\n",
              "      <td>...</td>\n",
              "      <td>...</td>\n",
              "      <td>...</td>\n",
              "      <td>...</td>\n",
              "      <td>...</td>\n",
              "      <td>...</td>\n",
              "      <td>...</td>\n",
              "      <td>...</td>\n",
              "      <td>...</td>\n",
              "      <td>...</td>\n",
              "      <td>...</td>\n",
              "      <td>...</td>\n",
              "    </tr>\n",
              "    <tr>\n",
              "      <th>10678</th>\n",
              "      <td>Air Asia</td>\n",
              "      <td>Kolkata</td>\n",
              "      <td>Banglore</td>\n",
              "      <td>4107</td>\n",
              "      <td>9</td>\n",
              "      <td>04</td>\n",
              "      <td>CCU</td>\n",
              "      <td>BLR</td>\n",
              "      <td>None</td>\n",
              "      <td>19</td>\n",
              "      <td>9</td>\n",
              "      <td>22</td>\n",
              "      <td>2</td>\n",
              "      <td>30</td>\n",
              "      <td>4</td>\n",
              "    </tr>\n",
              "    <tr>\n",
              "      <th>10679</th>\n",
              "      <td>Air India</td>\n",
              "      <td>Kolkata</td>\n",
              "      <td>Banglore</td>\n",
              "      <td>4145</td>\n",
              "      <td>27</td>\n",
              "      <td>04</td>\n",
              "      <td>CCU</td>\n",
              "      <td>BLR</td>\n",
              "      <td>None</td>\n",
              "      <td>20</td>\n",
              "      <td>27</td>\n",
              "      <td>23</td>\n",
              "      <td>2</td>\n",
              "      <td>35</td>\n",
              "      <td>4</td>\n",
              "    </tr>\n",
              "    <tr>\n",
              "      <th>10680</th>\n",
              "      <td>Jet Airways</td>\n",
              "      <td>Banglore</td>\n",
              "      <td>Delhi</td>\n",
              "      <td>7229</td>\n",
              "      <td>27</td>\n",
              "      <td>04</td>\n",
              "      <td>BLR</td>\n",
              "      <td>DEL</td>\n",
              "      <td>None</td>\n",
              "      <td>8</td>\n",
              "      <td>27</td>\n",
              "      <td>11</td>\n",
              "      <td>3</td>\n",
              "      <td>0</td>\n",
              "      <td>4</td>\n",
              "    </tr>\n",
              "    <tr>\n",
              "      <th>10681</th>\n",
              "      <td>Vistara</td>\n",
              "      <td>Banglore</td>\n",
              "      <td>New Delhi</td>\n",
              "      <td>12648</td>\n",
              "      <td>1</td>\n",
              "      <td>03</td>\n",
              "      <td>BLR</td>\n",
              "      <td>DEL</td>\n",
              "      <td>None</td>\n",
              "      <td>11</td>\n",
              "      <td>1</td>\n",
              "      <td>14</td>\n",
              "      <td>2</td>\n",
              "      <td>40</td>\n",
              "      <td>3</td>\n",
              "    </tr>\n",
              "    <tr>\n",
              "      <th>10682</th>\n",
              "      <td>Air India</td>\n",
              "      <td>Delhi</td>\n",
              "      <td>Cochin</td>\n",
              "      <td>11753</td>\n",
              "      <td>9</td>\n",
              "      <td>05</td>\n",
              "      <td>DEL</td>\n",
              "      <td>GOI</td>\n",
              "      <td>BOM</td>\n",
              "      <td>10</td>\n",
              "      <td>9</td>\n",
              "      <td>19</td>\n",
              "      <td>8</td>\n",
              "      <td>20</td>\n",
              "      <td>5</td>\n",
              "    </tr>\n",
              "  </tbody>\n",
              "</table>\n",
              "<p>10682 rows × 15 columns</p>\n",
              "</div>"
            ],
            "text/plain": [
              "           Airline    Source Destination  ...  Travel_hour  Travel_min month \n",
              "0           IndiGo  Banglore   New Delhi  ...            2          50      3\n",
              "1        Air India   Kolkata    Banglore  ...            7          25      5\n",
              "2      Jet Airways     Delhi      Cochin  ...           19           0      6\n",
              "3           IndiGo   Kolkata    Banglore  ...            5          25      5\n",
              "4           IndiGo  Banglore   New Delhi  ...            4          45      3\n",
              "...            ...       ...         ...  ...          ...         ...    ...\n",
              "10678     Air Asia   Kolkata    Banglore  ...            2          30      4\n",
              "10679    Air India   Kolkata    Banglore  ...            2          35      4\n",
              "10680  Jet Airways  Banglore       Delhi  ...            3           0      4\n",
              "10681      Vistara  Banglore   New Delhi  ...            2          40      3\n",
              "10682    Air India     Delhi      Cochin  ...            8          20      5\n",
              "\n",
              "[10682 rows x 15 columns]"
            ]
          },
          "metadata": {},
          "execution_count": 94
        }
      ]
    },
    {
      "cell_type": "code",
      "metadata": {
        "colab": {
          "base_uri": "https://localhost:8080/"
        },
        "id": "vEJSzjrxuOGF",
        "outputId": "450daca0-7d9e-468c-b46e-7effc79c2867"
      },
      "source": [
        "data_train.skew()"
      ],
      "execution_count": null,
      "outputs": [
        {
          "output_type": "execute_result",
          "data": {
            "text/plain": [
              "Price                1.813248\n",
              "date                 0.118174\n",
              "month               -0.387708\n",
              "dep_time_hour        0.113224\n",
              "Arrival_date         0.119667\n",
              "arrival_time_hour   -0.369876\n",
              "Travel_hour          0.850822\n",
              "Travel_min          -0.091004\n",
              "month               -0.387708\n",
              "dtype: float64"
            ]
          },
          "metadata": {},
          "execution_count": 95
        }
      ]
    },
    {
      "cell_type": "code",
      "metadata": {
        "id": "RnbazRzpuh81"
      },
      "source": [
        "data_train['Travel_hour']= np.log(data_train.Travel_hour)"
      ],
      "execution_count": null,
      "outputs": []
    },
    {
      "cell_type": "code",
      "metadata": {
        "colab": {
          "base_uri": "https://localhost:8080/"
        },
        "id": "2_ZmLB3_uxXE",
        "outputId": "a00137d6-7126-42f4-86d9-0db0cecae086"
      },
      "source": [
        "data_train['Travel_hour'].skew()"
      ],
      "execution_count": null,
      "outputs": [
        {
          "output_type": "execute_result",
          "data": {
            "text/plain": [
              "-0.26612233332369917"
            ]
          },
          "metadata": {},
          "execution_count": 97
        }
      ]
    },
    {
      "cell_type": "markdown",
      "metadata": {
        "id": "GWfvbzGwcGbH"
      },
      "source": [
        "observations made \n",
        "\n",
        "jetairways businees class is with highest prces \n",
        "flights going to delhi have more costs \n",
        "flights depeturing from banglore is having more cost \n"
      ]
    },
    {
      "cell_type": "code",
      "metadata": {
        "colab": {
          "base_uri": "https://localhost:8080/"
        },
        "id": "ehpHG63zcvze",
        "outputId": "eae97cd6-150a-48e9-ccd3-268bc5c8f037"
      },
      "source": [
        "#now lets encode the categorical data and built our model \n",
        "from sklearn.preprocessing import LabelEncoder\n",
        "le = LabelEncoder()\n",
        "\n",
        "for i in data_train.columns:\n",
        "  if data_train[i].dtypes == 'object':\n",
        "    print(i)\n",
        "    data_train[i] = le.fit_transform(data_train[i])"
      ],
      "execution_count": null,
      "outputs": [
        {
          "output_type": "stream",
          "name": "stdout",
          "text": [
            "Airline\n",
            "Source\n",
            "Destination\n",
            "month\n",
            "city1\n",
            "city2\n",
            "city3\n"
          ]
        }
      ]
    },
    {
      "cell_type": "code",
      "metadata": {
        "colab": {
          "base_uri": "https://localhost:8080/",
          "height": 417
        },
        "id": "LqkxMAipwlqI",
        "outputId": "7bcea1c1-80bb-45bb-e541-d00f54f5d4be"
      },
      "source": [
        "data_train"
      ],
      "execution_count": null,
      "outputs": [
        {
          "output_type": "execute_result",
          "data": {
            "text/html": [
              "<div>\n",
              "<style scoped>\n",
              "    .dataframe tbody tr th:only-of-type {\n",
              "        vertical-align: middle;\n",
              "    }\n",
              "\n",
              "    .dataframe tbody tr th {\n",
              "        vertical-align: top;\n",
              "    }\n",
              "\n",
              "    .dataframe thead th {\n",
              "        text-align: right;\n",
              "    }\n",
              "</style>\n",
              "<table border=\"1\" class=\"dataframe\">\n",
              "  <thead>\n",
              "    <tr style=\"text-align: right;\">\n",
              "      <th></th>\n",
              "      <th>Airline</th>\n",
              "      <th>Source</th>\n",
              "      <th>Destination</th>\n",
              "      <th>Price</th>\n",
              "      <th>date</th>\n",
              "      <th>month</th>\n",
              "      <th>city1</th>\n",
              "      <th>city2</th>\n",
              "      <th>city3</th>\n",
              "      <th>dep_time_hour</th>\n",
              "      <th>Arrival_date</th>\n",
              "      <th>arrival_time_hour</th>\n",
              "      <th>Travel_hour</th>\n",
              "      <th>Travel_min</th>\n",
              "      <th>month</th>\n",
              "    </tr>\n",
              "  </thead>\n",
              "  <tbody>\n",
              "    <tr>\n",
              "      <th>0</th>\n",
              "      <td>3</td>\n",
              "      <td>0</td>\n",
              "      <td>5</td>\n",
              "      <td>3897</td>\n",
              "      <td>24</td>\n",
              "      <td>0</td>\n",
              "      <td>0</td>\n",
              "      <td>13</td>\n",
              "      <td>29</td>\n",
              "      <td>22</td>\n",
              "      <td>22</td>\n",
              "      <td>1</td>\n",
              "      <td>0.693147</td>\n",
              "      <td>50</td>\n",
              "      <td>3</td>\n",
              "    </tr>\n",
              "    <tr>\n",
              "      <th>1</th>\n",
              "      <td>1</td>\n",
              "      <td>3</td>\n",
              "      <td>0</td>\n",
              "      <td>7662</td>\n",
              "      <td>1</td>\n",
              "      <td>2</td>\n",
              "      <td>2</td>\n",
              "      <td>25</td>\n",
              "      <td>1</td>\n",
              "      <td>5</td>\n",
              "      <td>1</td>\n",
              "      <td>13</td>\n",
              "      <td>1.945910</td>\n",
              "      <td>25</td>\n",
              "      <td>5</td>\n",
              "    </tr>\n",
              "    <tr>\n",
              "      <th>2</th>\n",
              "      <td>4</td>\n",
              "      <td>2</td>\n",
              "      <td>1</td>\n",
              "      <td>13882</td>\n",
              "      <td>9</td>\n",
              "      <td>3</td>\n",
              "      <td>4</td>\n",
              "      <td>32</td>\n",
              "      <td>4</td>\n",
              "      <td>9</td>\n",
              "      <td>10</td>\n",
              "      <td>4</td>\n",
              "      <td>2.944439</td>\n",
              "      <td>0</td>\n",
              "      <td>6</td>\n",
              "    </tr>\n",
              "    <tr>\n",
              "      <th>3</th>\n",
              "      <td>3</td>\n",
              "      <td>3</td>\n",
              "      <td>0</td>\n",
              "      <td>6218</td>\n",
              "      <td>12</td>\n",
              "      <td>2</td>\n",
              "      <td>2</td>\n",
              "      <td>34</td>\n",
              "      <td>3</td>\n",
              "      <td>18</td>\n",
              "      <td>12</td>\n",
              "      <td>23</td>\n",
              "      <td>1.609438</td>\n",
              "      <td>25</td>\n",
              "      <td>5</td>\n",
              "    </tr>\n",
              "    <tr>\n",
              "      <th>4</th>\n",
              "      <td>3</td>\n",
              "      <td>0</td>\n",
              "      <td>5</td>\n",
              "      <td>13302</td>\n",
              "      <td>1</td>\n",
              "      <td>0</td>\n",
              "      <td>0</td>\n",
              "      <td>34</td>\n",
              "      <td>8</td>\n",
              "      <td>16</td>\n",
              "      <td>1</td>\n",
              "      <td>21</td>\n",
              "      <td>1.386294</td>\n",
              "      <td>45</td>\n",
              "      <td>3</td>\n",
              "    </tr>\n",
              "    <tr>\n",
              "      <th>...</th>\n",
              "      <td>...</td>\n",
              "      <td>...</td>\n",
              "      <td>...</td>\n",
              "      <td>...</td>\n",
              "      <td>...</td>\n",
              "      <td>...</td>\n",
              "      <td>...</td>\n",
              "      <td>...</td>\n",
              "      <td>...</td>\n",
              "      <td>...</td>\n",
              "      <td>...</td>\n",
              "      <td>...</td>\n",
              "      <td>...</td>\n",
              "      <td>...</td>\n",
              "      <td>...</td>\n",
              "    </tr>\n",
              "    <tr>\n",
              "      <th>10678</th>\n",
              "      <td>0</td>\n",
              "      <td>3</td>\n",
              "      <td>0</td>\n",
              "      <td>4107</td>\n",
              "      <td>9</td>\n",
              "      <td>1</td>\n",
              "      <td>2</td>\n",
              "      <td>5</td>\n",
              "      <td>29</td>\n",
              "      <td>19</td>\n",
              "      <td>9</td>\n",
              "      <td>22</td>\n",
              "      <td>0.693147</td>\n",
              "      <td>30</td>\n",
              "      <td>4</td>\n",
              "    </tr>\n",
              "    <tr>\n",
              "      <th>10679</th>\n",
              "      <td>1</td>\n",
              "      <td>3</td>\n",
              "      <td>0</td>\n",
              "      <td>4145</td>\n",
              "      <td>27</td>\n",
              "      <td>1</td>\n",
              "      <td>2</td>\n",
              "      <td>5</td>\n",
              "      <td>29</td>\n",
              "      <td>20</td>\n",
              "      <td>27</td>\n",
              "      <td>23</td>\n",
              "      <td>0.693147</td>\n",
              "      <td>35</td>\n",
              "      <td>4</td>\n",
              "    </tr>\n",
              "    <tr>\n",
              "      <th>10680</th>\n",
              "      <td>4</td>\n",
              "      <td>0</td>\n",
              "      <td>2</td>\n",
              "      <td>7229</td>\n",
              "      <td>27</td>\n",
              "      <td>1</td>\n",
              "      <td>0</td>\n",
              "      <td>13</td>\n",
              "      <td>29</td>\n",
              "      <td>8</td>\n",
              "      <td>27</td>\n",
              "      <td>11</td>\n",
              "      <td>1.098612</td>\n",
              "      <td>0</td>\n",
              "      <td>4</td>\n",
              "    </tr>\n",
              "    <tr>\n",
              "      <th>10681</th>\n",
              "      <td>10</td>\n",
              "      <td>0</td>\n",
              "      <td>5</td>\n",
              "      <td>12648</td>\n",
              "      <td>1</td>\n",
              "      <td>0</td>\n",
              "      <td>0</td>\n",
              "      <td>13</td>\n",
              "      <td>29</td>\n",
              "      <td>11</td>\n",
              "      <td>1</td>\n",
              "      <td>14</td>\n",
              "      <td>0.693147</td>\n",
              "      <td>40</td>\n",
              "      <td>3</td>\n",
              "    </tr>\n",
              "    <tr>\n",
              "      <th>10682</th>\n",
              "      <td>1</td>\n",
              "      <td>2</td>\n",
              "      <td>1</td>\n",
              "      <td>11753</td>\n",
              "      <td>9</td>\n",
              "      <td>2</td>\n",
              "      <td>4</td>\n",
              "      <td>16</td>\n",
              "      <td>4</td>\n",
              "      <td>10</td>\n",
              "      <td>9</td>\n",
              "      <td>19</td>\n",
              "      <td>2.079442</td>\n",
              "      <td>20</td>\n",
              "      <td>5</td>\n",
              "    </tr>\n",
              "  </tbody>\n",
              "</table>\n",
              "<p>10682 rows × 15 columns</p>\n",
              "</div>"
            ],
            "text/plain": [
              "       Airline  Source  Destination  ...  Travel_hour  Travel_min  month \n",
              "0            3       0            5  ...     0.693147          50       3\n",
              "1            1       3            0  ...     1.945910          25       5\n",
              "2            4       2            1  ...     2.944439           0       6\n",
              "3            3       3            0  ...     1.609438          25       5\n",
              "4            3       0            5  ...     1.386294          45       3\n",
              "...        ...     ...          ...  ...          ...         ...     ...\n",
              "10678        0       3            0  ...     0.693147          30       4\n",
              "10679        1       3            0  ...     0.693147          35       4\n",
              "10680        4       0            2  ...     1.098612           0       4\n",
              "10681       10       0            5  ...     0.693147          40       3\n",
              "10682        1       2            1  ...     2.079442          20       5\n",
              "\n",
              "[10682 rows x 15 columns]"
            ]
          },
          "metadata": {},
          "execution_count": 99
        }
      ]
    },
    {
      "cell_type": "code",
      "metadata": {
        "id": "zNf5P2QyByLb"
      },
      "source": [
        "# scaling the data \n",
        "from sklearn.preprocessing import StandardScaler\n",
        "sc = StandardScaler()\n",
        "data_x = data_train.drop('Price',axis=1)\n",
        "y = data_train.Price"
      ],
      "execution_count": null,
      "outputs": []
    },
    {
      "cell_type": "code",
      "metadata": {
        "id": "8AoiQYbaxIcz"
      },
      "source": [
        "k = sc.fit_transform(data_x)\n",
        "x = pd.DataFrame(k,columns=data_x.columns)"
      ],
      "execution_count": null,
      "outputs": []
    },
    {
      "cell_type": "code",
      "metadata": {
        "id": "xd7wFuWXLRe-",
        "colab": {
          "base_uri": "https://localhost:8080/",
          "height": 417
        },
        "outputId": "638818a0-f45d-48cb-ccf1-17472daf86ae"
      },
      "source": [
        "x\n"
      ],
      "execution_count": null,
      "outputs": [
        {
          "output_type": "execute_result",
          "data": {
            "text/html": [
              "<div>\n",
              "<style scoped>\n",
              "    .dataframe tbody tr th:only-of-type {\n",
              "        vertical-align: middle;\n",
              "    }\n",
              "\n",
              "    .dataframe tbody tr th {\n",
              "        vertical-align: top;\n",
              "    }\n",
              "\n",
              "    .dataframe thead th {\n",
              "        text-align: right;\n",
              "    }\n",
              "</style>\n",
              "<table border=\"1\" class=\"dataframe\">\n",
              "  <thead>\n",
              "    <tr style=\"text-align: right;\">\n",
              "      <th></th>\n",
              "      <th>Airline</th>\n",
              "      <th>Source</th>\n",
              "      <th>Destination</th>\n",
              "      <th>date</th>\n",
              "      <th>month</th>\n",
              "      <th>city1</th>\n",
              "      <th>city2</th>\n",
              "      <th>city3</th>\n",
              "      <th>dep_time_hour</th>\n",
              "      <th>Arrival_date</th>\n",
              "      <th>arrival_time_hour</th>\n",
              "      <th>Travel_hour</th>\n",
              "      <th>Travel_min</th>\n",
              "      <th>month</th>\n",
              "    </tr>\n",
              "  </thead>\n",
              "  <tbody>\n",
              "    <tr>\n",
              "      <th>0</th>\n",
              "      <td>-0.410805</td>\n",
              "      <td>-1.658435</td>\n",
              "      <td>2.416778</td>\n",
              "      <td>1.237288</td>\n",
              "      <td>-1.467707</td>\n",
              "      <td>-1.515607</td>\n",
              "      <td>0.137204</td>\n",
              "      <td>1.395015</td>\n",
              "      <td>1.654268</td>\n",
              "      <td>0.955750</td>\n",
              "      <td>-1.800319</td>\n",
              "      <td>-1.183304</td>\n",
              "      <td>1.278932</td>\n",
              "      <td>-1.467707</td>\n",
              "    </tr>\n",
              "    <tr>\n",
              "      <th>1</th>\n",
              "      <td>-1.261152</td>\n",
              "      <td>0.890299</td>\n",
              "      <td>-0.973732</td>\n",
              "      <td>-1.475307</td>\n",
              "      <td>0.250153</td>\n",
              "      <td>-0.293280</td>\n",
              "      <td>1.634890</td>\n",
              "      <td>-1.082280</td>\n",
              "      <td>-1.303000</td>\n",
              "      <td>-1.524648</td>\n",
              "      <td>-0.050813</td>\n",
              "      <td>0.052178</td>\n",
              "      <td>-0.196525</td>\n",
              "      <td>0.250153</td>\n",
              "    </tr>\n",
              "    <tr>\n",
              "      <th>2</th>\n",
              "      <td>0.014369</td>\n",
              "      <td>0.040721</td>\n",
              "      <td>-0.295630</td>\n",
              "      <td>-0.531796</td>\n",
              "      <td>1.109082</td>\n",
              "      <td>0.929046</td>\n",
              "      <td>2.508541</td>\n",
              "      <td>-0.816856</td>\n",
              "      <td>-0.607172</td>\n",
              "      <td>-0.461621</td>\n",
              "      <td>-1.362943</td>\n",
              "      <td>1.036933</td>\n",
              "      <td>-1.671983</td>\n",
              "      <td>1.109082</td>\n",
              "    </tr>\n",
              "    <tr>\n",
              "      <th>3</th>\n",
              "      <td>-0.410805</td>\n",
              "      <td>0.890299</td>\n",
              "      <td>-0.973732</td>\n",
              "      <td>-0.177979</td>\n",
              "      <td>0.250153</td>\n",
              "      <td>-0.293280</td>\n",
              "      <td>2.758155</td>\n",
              "      <td>-0.905330</td>\n",
              "      <td>0.958440</td>\n",
              "      <td>-0.225392</td>\n",
              "      <td>1.407109</td>\n",
              "      <td>-0.279653</td>\n",
              "      <td>-0.196525</td>\n",
              "      <td>0.250153</td>\n",
              "    </tr>\n",
              "    <tr>\n",
              "      <th>4</th>\n",
              "      <td>-0.410805</td>\n",
              "      <td>-1.658435</td>\n",
              "      <td>2.416778</td>\n",
              "      <td>-1.475307</td>\n",
              "      <td>-1.467707</td>\n",
              "      <td>-1.515607</td>\n",
              "      <td>2.758155</td>\n",
              "      <td>-0.462956</td>\n",
              "      <td>0.610527</td>\n",
              "      <td>-1.524648</td>\n",
              "      <td>1.115525</td>\n",
              "      <td>-0.499718</td>\n",
              "      <td>0.983841</td>\n",
              "      <td>-1.467707</td>\n",
              "    </tr>\n",
              "    <tr>\n",
              "      <th>...</th>\n",
              "      <td>...</td>\n",
              "      <td>...</td>\n",
              "      <td>...</td>\n",
              "      <td>...</td>\n",
              "      <td>...</td>\n",
              "      <td>...</td>\n",
              "      <td>...</td>\n",
              "      <td>...</td>\n",
              "      <td>...</td>\n",
              "      <td>...</td>\n",
              "      <td>...</td>\n",
              "      <td>...</td>\n",
              "      <td>...</td>\n",
              "      <td>...</td>\n",
              "    </tr>\n",
              "    <tr>\n",
              "      <th>10677</th>\n",
              "      <td>-1.686326</td>\n",
              "      <td>0.890299</td>\n",
              "      <td>-0.973732</td>\n",
              "      <td>-0.531796</td>\n",
              "      <td>-0.608777</td>\n",
              "      <td>-0.293280</td>\n",
              "      <td>-0.861254</td>\n",
              "      <td>1.395015</td>\n",
              "      <td>1.132397</td>\n",
              "      <td>-0.579735</td>\n",
              "      <td>1.261317</td>\n",
              "      <td>-1.183304</td>\n",
              "      <td>0.098566</td>\n",
              "      <td>-0.608777</td>\n",
              "    </tr>\n",
              "    <tr>\n",
              "      <th>10678</th>\n",
              "      <td>-1.261152</td>\n",
              "      <td>0.890299</td>\n",
              "      <td>-0.973732</td>\n",
              "      <td>1.591104</td>\n",
              "      <td>-0.608777</td>\n",
              "      <td>-0.293280</td>\n",
              "      <td>-0.861254</td>\n",
              "      <td>1.395015</td>\n",
              "      <td>1.306354</td>\n",
              "      <td>1.546321</td>\n",
              "      <td>1.407109</td>\n",
              "      <td>-1.183304</td>\n",
              "      <td>0.393658</td>\n",
              "      <td>-0.608777</td>\n",
              "    </tr>\n",
              "    <tr>\n",
              "      <th>10679</th>\n",
              "      <td>0.014369</td>\n",
              "      <td>-1.658435</td>\n",
              "      <td>0.382472</td>\n",
              "      <td>1.591104</td>\n",
              "      <td>-0.608777</td>\n",
              "      <td>-1.515607</td>\n",
              "      <td>0.137204</td>\n",
              "      <td>1.395015</td>\n",
              "      <td>-0.781129</td>\n",
              "      <td>1.546321</td>\n",
              "      <td>-0.342397</td>\n",
              "      <td>-0.783432</td>\n",
              "      <td>-1.671983</td>\n",
              "      <td>-0.608777</td>\n",
              "    </tr>\n",
              "    <tr>\n",
              "      <th>10680</th>\n",
              "      <td>2.565411</td>\n",
              "      <td>-1.658435</td>\n",
              "      <td>2.416778</td>\n",
              "      <td>-1.475307</td>\n",
              "      <td>-1.467707</td>\n",
              "      <td>-1.515607</td>\n",
              "      <td>0.137204</td>\n",
              "      <td>1.395015</td>\n",
              "      <td>-0.259258</td>\n",
              "      <td>-1.524648</td>\n",
              "      <td>0.094979</td>\n",
              "      <td>-1.183304</td>\n",
              "      <td>0.688749</td>\n",
              "      <td>-1.467707</td>\n",
              "    </tr>\n",
              "    <tr>\n",
              "      <th>10681</th>\n",
              "      <td>-1.261152</td>\n",
              "      <td>0.040721</td>\n",
              "      <td>-0.295630</td>\n",
              "      <td>-0.531796</td>\n",
              "      <td>0.250153</td>\n",
              "      <td>0.929046</td>\n",
              "      <td>0.511625</td>\n",
              "      <td>-0.816856</td>\n",
              "      <td>-0.433215</td>\n",
              "      <td>-0.579735</td>\n",
              "      <td>0.823940</td>\n",
              "      <td>0.183867</td>\n",
              "      <td>-0.491617</td>\n",
              "      <td>0.250153</td>\n",
              "    </tr>\n",
              "  </tbody>\n",
              "</table>\n",
              "<p>10682 rows × 14 columns</p>\n",
              "</div>"
            ],
            "text/plain": [
              "        Airline    Source  Destination  ...  Travel_hour  Travel_min    month \n",
              "0     -0.410805 -1.658435     2.416778  ...    -1.183304    1.278932 -1.467707\n",
              "1     -1.261152  0.890299    -0.973732  ...     0.052178   -0.196525  0.250153\n",
              "2      0.014369  0.040721    -0.295630  ...     1.036933   -1.671983  1.109082\n",
              "3     -0.410805  0.890299    -0.973732  ...    -0.279653   -0.196525  0.250153\n",
              "4     -0.410805 -1.658435     2.416778  ...    -0.499718    0.983841 -1.467707\n",
              "...         ...       ...          ...  ...          ...         ...       ...\n",
              "10677 -1.686326  0.890299    -0.973732  ...    -1.183304    0.098566 -0.608777\n",
              "10678 -1.261152  0.890299    -0.973732  ...    -1.183304    0.393658 -0.608777\n",
              "10679  0.014369 -1.658435     0.382472  ...    -0.783432   -1.671983 -0.608777\n",
              "10680  2.565411 -1.658435     2.416778  ...    -1.183304    0.688749 -1.467707\n",
              "10681 -1.261152  0.040721    -0.295630  ...     0.183867   -0.491617  0.250153\n",
              "\n",
              "[10682 rows x 14 columns]"
            ]
          },
          "metadata": {},
          "execution_count": 103
        }
      ]
    },
    {
      "cell_type": "code",
      "metadata": {
        "id": "hWf38wBdLlgK"
      },
      "source": [
        ""
      ],
      "execution_count": null,
      "outputs": []
    },
    {
      "cell_type": "code",
      "metadata": {
        "colab": {
          "base_uri": "https://localhost:8080/",
          "height": 35
        },
        "id": "hrTIn4JmQiHk",
        "outputId": "10100843-a9e3-4870-c7f9-0259c84ccc9e"
      },
      "source": [
        "\"\"\" now lets do our regression problem here \"\"\""
      ],
      "execution_count": null,
      "outputs": [
        {
          "output_type": "execute_result",
          "data": {
            "application/vnd.google.colaboratory.intrinsic+json": {
              "type": "string"
            },
            "text/plain": [
              "' now lets do our regression problem here '"
            ]
          },
          "metadata": {},
          "execution_count": 104
        }
      ]
    },
    {
      "cell_type": "markdown",
      "metadata": {
        "id": "WYzdyyt-RFja"
      },
      "source": [
        "model building and fitting \n"
      ]
    },
    {
      "cell_type": "code",
      "metadata": {
        "id": "Ko9sUm1oRJ81"
      },
      "source": [
        "from sklearn.linear_model import LinearRegression\n",
        "from sklearn.tree import DecisionTreeRegressor\n",
        "from sklearn.neighbors import KNeighborsRegressor\n",
        "from sklearn.svm import SVR\n",
        "from sklearn.model_selection import train_test_split\n",
        "from sklearn.metrics import r2_score,mean_absolute_error,mean_squared_error\n"
      ],
      "execution_count": null,
      "outputs": []
    },
    {
      "cell_type": "code",
      "metadata": {
        "id": "5YEYsKK7Rwpg"
      },
      "source": [
        "svr= SVR()\n",
        "lr = LinearRegression()\n",
        "knn = KNeighborsRegressor()\n",
        "dt=DecisionTreeRegressor()"
      ],
      "execution_count": null,
      "outputs": []
    },
    {
      "cell_type": "code",
      "metadata": {
        "colab": {
          "base_uri": "https://localhost:8080/"
        },
        "id": "MO7Ce01fR-vI",
        "outputId": "1158fa62-d874-4b4c-db5f-c29633969079"
      },
      "source": [
        "# data splitting \n",
        "x_train,x_test,y_train,y_test = train_test_split(x,y,test_size=0.3,random_state=42)\n",
        "for i in [svr, lr ,knn, dt]:\n",
        "  i.fit(x_train, y_train)\n",
        "  pred = i.predict(x_test)\n",
        "  testscore = r2_score(y_test,pred)\n",
        "  trainscore= r2_score(y_train,i.predict(x_train))\n",
        "  if abs(trainscore - testscore) <= 0.1:\n",
        "    print(i)\n",
        "    print('mean absolute error',mean_absolute_error(y_test,pred))\n",
        "    print('mean squre error',mean_squared_error(y_test,pred))\n",
        "    print('r 2 score',r2_score(y_test,pred))\n",
        "    print('r2 for train error',r2_score(y_train,i.predict(x_train)))\n",
        "    print('r2 for train data',r2_score(y_train,i.predict(x_train)))\n",
        "    print('^^^^^^^^^^^^^^^^^^^^^^^^^^^^^^^^^^^^^^^^^^^^^^^^^^^^^^^')\n",
        "\n"
      ],
      "execution_count": null,
      "outputs": [
        {
          "output_type": "stream",
          "name": "stdout",
          "text": [
            "SVR(C=1.0, cache_size=200, coef0=0.0, degree=3, epsilon=0.1, gamma='scale',\n",
            "    kernel='rbf', max_iter=-1, shrinking=True, tol=0.001, verbose=False)\n",
            "mean absolute error 3410.1011044513043\n",
            "mean squre error 19391109.577016413\n",
            "r 2 score 0.04208179668582834\n",
            "r2 for train error 0.03600756245137926\n",
            "r2 for train data 0.03600756245137926\n",
            "^^^^^^^^^^^^^^^^^^^^^^^^^^^^^^^^^^^^^^^^^^^^^^^^^^^^^^^\n",
            "LinearRegression(copy_X=True, fit_intercept=True, n_jobs=None, normalize=False)\n",
            "mean absolute error 2347.307667489545\n",
            "mean squre error 10364425.958090244\n",
            "r 2 score 0.4879987525868972\n",
            "r2 for train error 0.45641487540484915\n",
            "r2 for train data 0.45641487540484915\n",
            "^^^^^^^^^^^^^^^^^^^^^^^^^^^^^^^^^^^^^^^^^^^^^^^^^^^^^^^\n",
            "KNeighborsRegressor(algorithm='auto', leaf_size=30, metric='minkowski',\n",
            "                    metric_params=None, n_jobs=None, n_neighbors=5, p=2,\n",
            "                    weights='uniform')\n",
            "mean absolute error 1587.8627145085804\n",
            "mean squre error 5873125.317366616\n",
            "r 2 score 0.7098683997681563\n",
            "r2 for train error 0.804531741057014\n",
            "r2 for train data 0.804531741057014\n",
            "^^^^^^^^^^^^^^^^^^^^^^^^^^^^^^^^^^^^^^^^^^^^^^^^^^^^^^^\n"
          ]
        }
      ]
    },
    {
      "cell_type": "code",
      "metadata": {
        "id": "Z7kHITXsWO12"
      },
      "source": [
        "# observation here are for KNN we got r 2 score of 70.8% out of all models "
      ],
      "execution_count": null,
      "outputs": []
    },
    {
      "cell_type": "code",
      "metadata": {
        "colab": {
          "base_uri": "https://localhost:8080/"
        },
        "id": "a8P183z3zfZ6",
        "outputId": "c2aa8f85-af17-46fa-a245-d98cca309c92"
      },
      "source": [
        "# lets check random forest in sperate for it \n",
        "from sklearn.ensemble import RandomForestRegressor\n",
        "rf = RandomForestRegressor()\n",
        "rf.fit(x_train, y_train)\n",
        "pred = rf.predict(x_test)\n",
        "testscore = r2_score(y_test,pred)\n",
        "trainscore= r2_score(y_train,rf.predict(x_train))\n",
        "if abs(trainscore - testscore) <= 0.2: # when we used above 0.1 the conditon was false to avoid it we have update it to 0.2 \n",
        "  print('mean absolute error',mean_absolute_error(y_test,pred))\n",
        "  print('mean squre error',mean_squared_error(y_test,pred))\n",
        "  print('r 2 score',r2_score(y_test,pred))\n",
        "  print('r2 for train error',r2_score(y_train,rf.predict(x_train)))\n",
        "  print('r2 for train data',r2_score(y_train,rf.predict(x_train)))\n"
      ],
      "execution_count": null,
      "outputs": [
        {
          "output_type": "stream",
          "name": "stdout",
          "text": [
            "mean absolute error 1152.0905720014948\n",
            "mean squre error 3836603.503935214\n",
            "r 2 score 0.8104723032623928\n",
            "r2 for train error 0.9556942692786649\n",
            "r2 for train data 0.9556942692786649\n"
          ]
        }
      ]
    },
    {
      "cell_type": "code",
      "metadata": {
        "colab": {
          "base_uri": "https://localhost:8080/"
        },
        "id": "qNZwBvaQ0S_a",
        "outputId": "6f170cb5-1758-46e6-de1c-d12f9bdaa8fc"
      },
      "source": [
        "\n",
        "# cross validation from sklearn.model_selection import cross_val_score\n",
        "for i in range(2,9):\n",
        "  cv = cross_val_score(rf,x,y,cv=i)\n",
        "  print(rf,cv.mean())"
      ],
      "execution_count": null,
      "outputs": [
        {
          "output_type": "stream",
          "name": "stdout",
          "text": [
            "RandomForestRegressor(bootstrap=True, ccp_alpha=0.0, criterion='mse',\n",
            "                      max_depth=None, max_features='auto', max_leaf_nodes=None,\n",
            "                      max_samples=None, min_impurity_decrease=0.0,\n",
            "                      min_impurity_split=None, min_samples_leaf=1,\n",
            "                      min_samples_split=2, min_weight_fraction_leaf=0.0,\n",
            "                      n_estimators=100, n_jobs=None, oob_score=False,\n",
            "                      random_state=None, verbose=0, warm_start=False) 0.7908600820355147\n",
            "RandomForestRegressor(bootstrap=True, ccp_alpha=0.0, criterion='mse',\n",
            "                      max_depth=None, max_features='auto', max_leaf_nodes=None,\n",
            "                      max_samples=None, min_impurity_decrease=0.0,\n",
            "                      min_impurity_split=None, min_samples_leaf=1,\n",
            "                      min_samples_split=2, min_weight_fraction_leaf=0.0,\n",
            "                      n_estimators=100, n_jobs=None, oob_score=False,\n",
            "                      random_state=None, verbose=0, warm_start=False) 0.7866246685915058\n",
            "RandomForestRegressor(bootstrap=True, ccp_alpha=0.0, criterion='mse',\n",
            "                      max_depth=None, max_features='auto', max_leaf_nodes=None,\n",
            "                      max_samples=None, min_impurity_decrease=0.0,\n",
            "                      min_impurity_split=None, min_samples_leaf=1,\n",
            "                      min_samples_split=2, min_weight_fraction_leaf=0.0,\n",
            "                      n_estimators=100, n_jobs=None, oob_score=False,\n",
            "                      random_state=None, verbose=0, warm_start=False) 0.8038002876918882\n",
            "RandomForestRegressor(bootstrap=True, ccp_alpha=0.0, criterion='mse',\n",
            "                      max_depth=None, max_features='auto', max_leaf_nodes=None,\n",
            "                      max_samples=None, min_impurity_decrease=0.0,\n",
            "                      min_impurity_split=None, min_samples_leaf=1,\n",
            "                      min_samples_split=2, min_weight_fraction_leaf=0.0,\n",
            "                      n_estimators=100, n_jobs=None, oob_score=False,\n",
            "                      random_state=None, verbose=0, warm_start=False) 0.8072582827140049\n",
            "RandomForestRegressor(bootstrap=True, ccp_alpha=0.0, criterion='mse',\n",
            "                      max_depth=None, max_features='auto', max_leaf_nodes=None,\n",
            "                      max_samples=None, min_impurity_decrease=0.0,\n",
            "                      min_impurity_split=None, min_samples_leaf=1,\n",
            "                      min_samples_split=2, min_weight_fraction_leaf=0.0,\n",
            "                      n_estimators=100, n_jobs=None, oob_score=False,\n",
            "                      random_state=None, verbose=0, warm_start=False) 0.8027128424444684\n",
            "RandomForestRegressor(bootstrap=True, ccp_alpha=0.0, criterion='mse',\n",
            "                      max_depth=None, max_features='auto', max_leaf_nodes=None,\n",
            "                      max_samples=None, min_impurity_decrease=0.0,\n",
            "                      min_impurity_split=None, min_samples_leaf=1,\n",
            "                      min_samples_split=2, min_weight_fraction_leaf=0.0,\n",
            "                      n_estimators=100, n_jobs=None, oob_score=False,\n",
            "                      random_state=None, verbose=0, warm_start=False) 0.8033600566530709\n",
            "RandomForestRegressor(bootstrap=True, ccp_alpha=0.0, criterion='mse',\n",
            "                      max_depth=None, max_features='auto', max_leaf_nodes=None,\n",
            "                      max_samples=None, min_impurity_decrease=0.0,\n",
            "                      min_impurity_split=None, min_samples_leaf=1,\n",
            "                      min_samples_split=2, min_weight_fraction_leaf=0.0,\n",
            "                      n_estimators=100, n_jobs=None, oob_score=False,\n",
            "                      random_state=None, verbose=0, warm_start=False) 0.8054360462181085\n"
          ]
        }
      ]
    },
    {
      "cell_type": "code",
      "metadata": {
        "id": "lQbGFu9T1XBT"
      },
      "source": [
        "#from above we can see the random forest provdies cross validation score of 80.54% \n",
        "# we will do hyperparameter tunning "
      ],
      "execution_count": null,
      "outputs": []
    },
    {
      "cell_type": "code",
      "metadata": {
        "id": "OesnNM6u2EYO"
      },
      "source": [
        "from sklearn.model_selection import GridSearchCV\n",
        "param_grid = {'n_estimators':[10,20,30,40,50],'max_depth':[1,2,3,None],'max_samples':[20,50,150,250,500]}\n",
        "gscv = GridSearchCV(rf,param_grid,cv=3)\n"
      ],
      "execution_count": null,
      "outputs": []
    },
    {
      "cell_type": "code",
      "metadata": {
        "id": "ZNIQ2TJ920UJ"
      },
      "source": [
        "# fitting the model \n",
        "model = gscv.fit(x_train,y_train)"
      ],
      "execution_count": null,
      "outputs": []
    },
    {
      "cell_type": "code",
      "metadata": {
        "colab": {
          "base_uri": "https://localhost:8080/"
        },
        "id": "PVpXhKR13LCv",
        "outputId": "4289efc2-438d-455a-abf9-0dbdef314c5b"
      },
      "source": [
        "model.best_params_"
      ],
      "execution_count": null,
      "outputs": [
        {
          "output_type": "execute_result",
          "data": {
            "text/plain": [
              "{'max_depth': None, 'max_samples': 500, 'n_estimators': 30}"
            ]
          },
          "metadata": {},
          "execution_count": 119
        }
      ]
    },
    {
      "cell_type": "code",
      "metadata": {
        "colab": {
          "base_uri": "https://localhost:8080/"
        },
        "id": "-Rx0FALe3i0R",
        "outputId": "f7613407-9c07-421e-f708-71ab946ecda2"
      },
      "source": [
        "rf = RandomForestRegressor(n_estimators=30,max_samples=1000,max_depth=None)\n",
        "rf.fit(x_train, y_train)\n",
        "pred = rf.predict(x_test)\n",
        "testscore = r2_score(y_test,pred)\n",
        "trainscore= r2_score(y_train,rf.predict(x_train))\n",
        "if abs(trainscore - testscore) <= 0.2: # when we used above 0.1 the conditon was false to avoid it we have update it to 0.2 \n",
        "  print('mean absolute error',mean_absolute_error(y_test,pred))\n",
        "  print('mean squre error',mean_squared_error(y_test,pred))\n",
        "  print('r 2 score',r2_score(y_test,pred))\n",
        "  print('r2 for train error',r2_score(y_train,rf.predict(x_train)))\n",
        "  print('r2 for train data',r2_score(y_train,rf.predict(x_train)))\n",
        "\n"
      ],
      "execution_count": null,
      "outputs": [
        {
          "output_type": "stream",
          "name": "stdout",
          "text": [
            "mean absolute error 1372.2626070376148\n",
            "mean squre error 4309792.982699081\n",
            "r 2 score 0.78709680669659\n",
            "r2 for train error 0.8131643941199513\n",
            "r2 for train data 0.8131643941199513\n"
          ]
        }
      ]
    },
    {
      "cell_type": "code",
      "metadata": {
        "id": "98EQSqU44j8h"
      },
      "source": [
        "# so our model is giving us 78.7% r2 score \n",
        "modelfinal = RandomForestRegressor(n_estimators=30,max_samples=1000,max_depth=None)"
      ],
      "execution_count": null,
      "outputs": []
    }
  ]
}